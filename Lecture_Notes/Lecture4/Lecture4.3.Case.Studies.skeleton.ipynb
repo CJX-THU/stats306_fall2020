{
 "cells": [
  {
   "cell_type": "markdown",
   "metadata": {},
   "source": [
    "# Lecture 4.3: Case Study\n",
    "\n",
    "<div style=\"border: 1px double black; padding: 10px; margin: 10px\">\n",
    "\n",
    "**Goals for this lecture:**\n",
    "* Use the tools we have learnt so far to study more about baseball data set\n",
    "    \n",
    "</div>\n",
    "\n"
   ]
  },
  {
   "cell_type": "markdown",
   "metadata": {},
   "source": [
    "## Who is the greatest batter of all time?\n",
    "The `Lahman` dataset contains information on baseball players."
   ]
  },
  {
   "cell_type": "code",
   "execution_count": 3,
   "metadata": {},
   "outputs": [
    {
     "name": "stdout",
     "output_type": "stream",
     "text": [
      "\n",
      "The downloaded binary packages are in\n",
      "\t/var/folders/br/gjgfqmdn1d5cmwrq6b8z_mf80000gn/T//RtmpWf91sq/downloaded_packages\n"
     ]
    }
   ],
   "source": [
    "install.packages(\"Lahman\")"
   ]
  },
  {
   "cell_type": "code",
   "execution_count": 1,
   "metadata": {},
   "outputs": [
    {
     "name": "stderr",
     "output_type": "stream",
     "text": [
      "── \u001b[1mAttaching packages\u001b[22m ─────────────────────────────────────── tidyverse 1.3.0 ──\n",
      "\n",
      "\u001b[32m✔\u001b[39m \u001b[34mggplot2\u001b[39m 3.3.2     \u001b[32m✔\u001b[39m \u001b[34mpurrr  \u001b[39m 0.3.4\n",
      "\u001b[32m✔\u001b[39m \u001b[34mtibble \u001b[39m 3.0.3     \u001b[32m✔\u001b[39m \u001b[34mdplyr  \u001b[39m 1.0.2\n",
      "\u001b[32m✔\u001b[39m \u001b[34mtidyr  \u001b[39m 1.1.1     \u001b[32m✔\u001b[39m \u001b[34mstringr\u001b[39m 1.4.0\n",
      "\u001b[32m✔\u001b[39m \u001b[34mreadr  \u001b[39m 1.3.1     \u001b[32m✔\u001b[39m \u001b[34mforcats\u001b[39m 0.5.0\n",
      "\n",
      "── \u001b[1mConflicts\u001b[22m ────────────────────────────────────────── tidyverse_conflicts() ──\n",
      "\u001b[31m✖\u001b[39m \u001b[34mdplyr\u001b[39m::\u001b[32mfilter()\u001b[39m masks \u001b[34mstats\u001b[39m::filter()\n",
      "\u001b[31m✖\u001b[39m \u001b[34mdplyr\u001b[39m::\u001b[32mlag()\u001b[39m    masks \u001b[34mstats\u001b[39m::lag()\n",
      "\n"
     ]
    }
   ],
   "source": [
    "#options(repr.plot.width=6, repr.plot.height=4)\n",
    "library(tidyverse)\n"
   ]
  },
  {
   "cell_type": "code",
   "execution_count": 4,
   "metadata": {},
   "outputs": [
    {
     "name": "stdout",
     "output_type": "stream",
     "text": [
      "\u001b[38;5;246m# A tibble: 107,429 x 22\u001b[39m\n",
      "   playerID yearID stint teamID lgID      G    AB     R     H   X2B   X3B    HR\n",
      "   \u001b[3m\u001b[38;5;246m<chr>\u001b[39m\u001b[23m     \u001b[3m\u001b[38;5;246m<int>\u001b[39m\u001b[23m \u001b[3m\u001b[38;5;246m<int>\u001b[39m\u001b[23m \u001b[3m\u001b[38;5;246m<fct>\u001b[39m\u001b[23m  \u001b[3m\u001b[38;5;246m<fct>\u001b[39m\u001b[23m \u001b[3m\u001b[38;5;246m<int>\u001b[39m\u001b[23m \u001b[3m\u001b[38;5;246m<int>\u001b[39m\u001b[23m \u001b[3m\u001b[38;5;246m<int>\u001b[39m\u001b[23m \u001b[3m\u001b[38;5;246m<int>\u001b[39m\u001b[23m \u001b[3m\u001b[38;5;246m<int>\u001b[39m\u001b[23m \u001b[3m\u001b[38;5;246m<int>\u001b[39m\u001b[23m \u001b[3m\u001b[38;5;246m<int>\u001b[39m\u001b[23m\n",
      "\u001b[38;5;250m 1\u001b[39m abercda…   \u001b[4m1\u001b[24m871     1 TRO    NA        1     4     0     0     0     0     0\n",
      "\u001b[38;5;250m 2\u001b[39m addybo01   \u001b[4m1\u001b[24m871     1 RC1    NA       25   118    30    32     6     0     0\n",
      "\u001b[38;5;250m 3\u001b[39m allisar…   \u001b[4m1\u001b[24m871     1 CL1    NA       29   137    28    40     4     5     0\n",
      "\u001b[38;5;250m 4\u001b[39m allisdo…   \u001b[4m1\u001b[24m871     1 WS3    NA       27   133    28    44    10     2     2\n",
      "\u001b[38;5;250m 5\u001b[39m ansonca…   \u001b[4m1\u001b[24m871     1 RC1    NA       25   120    29    39    11     3     0\n",
      "\u001b[38;5;250m 6\u001b[39m armstbo…   \u001b[4m1\u001b[24m871     1 FW1    NA       12    49     9    11     2     1     0\n",
      "\u001b[38;5;250m 7\u001b[39m barkeal…   \u001b[4m1\u001b[24m871     1 RC1    NA        1     4     0     1     0     0     0\n",
      "\u001b[38;5;250m 8\u001b[39m barnero…   \u001b[4m1\u001b[24m871     1 BS1    NA       31   157    66    63    10     9     0\n",
      "\u001b[38;5;250m 9\u001b[39m barrebi…   \u001b[4m1\u001b[24m871     1 FW1    NA        1     5     1     1     1     0     0\n",
      "\u001b[38;5;250m10\u001b[39m barrofr…   \u001b[4m1\u001b[24m871     1 BS1    NA       18    86    13    13     2     1     0\n",
      "\u001b[38;5;246m# … with 107,419 more rows, and 10 more variables: RBI \u001b[3m\u001b[38;5;246m<int>\u001b[38;5;246m\u001b[23m, SB \u001b[3m\u001b[38;5;246m<int>\u001b[38;5;246m\u001b[23m,\u001b[39m\n",
      "\u001b[38;5;246m#   CS \u001b[3m\u001b[38;5;246m<int>\u001b[38;5;246m\u001b[23m, BB \u001b[3m\u001b[38;5;246m<int>\u001b[38;5;246m\u001b[23m, SO \u001b[3m\u001b[38;5;246m<int>\u001b[38;5;246m\u001b[23m, IBB \u001b[3m\u001b[38;5;246m<int>\u001b[38;5;246m\u001b[23m, HBP \u001b[3m\u001b[38;5;246m<int>\u001b[38;5;246m\u001b[23m, SH \u001b[3m\u001b[38;5;246m<int>\u001b[38;5;246m\u001b[23m, SF \u001b[3m\u001b[38;5;246m<int>\u001b[38;5;246m\u001b[23m,\u001b[39m\n",
      "\u001b[38;5;246m#   GIDP \u001b[3m\u001b[38;5;246m<int>\u001b[38;5;246m\u001b[23m\u001b[39m\n"
     ]
    }
   ],
   "source": [
    "library(Lahman)\n",
    "bat <- as_tibble(Batting) %>% print"
   ]
  },
  {
   "cell_type": "markdown",
   "metadata": {},
   "source": [
    "Each row of the above data is data per player and per year.  For instance, let's take a look at the second row of our data."
   ]
  },
  {
   "cell_type": "code",
   "execution_count": null,
   "metadata": {},
   "outputs": [],
   "source": []
  },
  {
   "cell_type": "markdown",
   "metadata": {},
   "source": [
    "Let's try to compute the career batting average for Bob Addy, defined as Hit/(Number of bats).  The playerID for Bob Addy is addybo01. "
   ]
  },
  {
   "cell_type": "code",
   "execution_count": null,
   "metadata": {},
   "outputs": [],
   "source": []
  },
  {
   "cell_type": "code",
   "execution_count": null,
   "metadata": {},
   "outputs": [],
   "source": []
  },
  {
   "cell_type": "markdown",
   "metadata": {},
   "source": [
    "Bob Addy was active in the years 1871-1877. During that time he had $118+51+152+213+310+142+245=1231$ at-bats, and $32+16+54+51+80+40+68=341$ hits. Therefore his career batting average was $341/1241=0.277$."
   ]
  },
  {
   "cell_type": "markdown",
   "metadata": {},
   "source": [
    "### Exercise\n",
    "By appropriately grouping and summarizing the data, add up all the hits and at-bats for each player across all the years they played, and compute their career batting average. \n",
    "\n",
    "Which player(s) has the highest career batting average?"
   ]
  },
  {
   "cell_type": "code",
   "execution_count": null,
   "metadata": {},
   "outputs": [],
   "source": []
  },
  {
   "cell_type": "markdown",
   "metadata": {},
   "source": [
    "### Always include counts\n",
    "It is a good idea to include counts of each group when you do a summary. Some groups may have very low numbers of observations, resulting in high variance for the summary statistics. \n"
   ]
  },
  {
   "cell_type": "code",
   "execution_count": null,
   "metadata": {},
   "outputs": [],
   "source": []
  },
  {
   "cell_type": "markdown",
   "metadata": {},
   "source": [
    "\n",
    "What happens if we restrict our batting average calculation to players that had at least 100 at-bats, and sort it from players that have the highest batting average?"
   ]
  },
  {
   "cell_type": "code",
   "execution_count": null,
   "metadata": {},
   "outputs": [],
   "source": []
  },
  {
   "cell_type": "markdown",
   "metadata": {},
   "source": [
    "What is wrong with the above?  Why are there so many overlapping rows for the player cobbty01? "
   ]
  },
  {
   "cell_type": "code",
   "execution_count": null,
   "metadata": {},
   "outputs": [],
   "source": []
  },
  {
   "cell_type": "markdown",
   "metadata": {},
   "source": [
    "### Exercise\n",
    "Output all the years in which the batting average for those years for cobbty01 is less than his bat_avg across all years. That is, we are interested in knowing which year cobbty01 underperform.     "
   ]
  },
  {
   "cell_type": "code",
   "execution_count": null,
   "metadata": {},
   "outputs": [],
   "source": []
  },
  {
   "cell_type": "markdown",
   "metadata": {},
   "source": [
    "## Exercise\n",
    "Now output all rows for each player that underperform, that is, their bat_avg_year is less than bat_avg.\n",
    "\n",
    "That is, we are interested in knowing whether there is any specific year that the players underperform. "
   ]
  },
  {
   "cell_type": "code",
   "execution_count": null,
   "metadata": {},
   "outputs": [],
   "source": []
  },
  {
   "cell_type": "markdown",
   "metadata": {},
   "source": [
    "## Exercise\n",
    "Write code to find the player with the highest bat_avg for each team. You may find the function `slicemax` useful. "
   ]
  },
  {
   "cell_type": "code",
   "execution_count": null,
   "metadata": {},
   "outputs": [],
   "source": []
  },
  {
   "cell_type": "markdown",
   "metadata": {},
   "source": [
    "## Names of baseball players\n",
    "\n",
    "Let us think more about names. Naming frequencies change a lot over time. There are 19617 baseball players in this data set. How have their names changed over time?\n",
    "\n",
    "We are going to extract the first name and last name in our data set `Lahman::Master` by linking the playerID."
   ]
  },
  {
   "cell_type": "code",
   "execution_count": null,
   "metadata": {},
   "outputs": [],
   "source": []
  },
  {
   "cell_type": "markdown",
   "metadata": {},
   "source": [
    "## Exercise\n",
    "What were the top five most common first names for players born before 1900? After 1980?"
   ]
  },
  {
   "cell_type": "code",
   "execution_count": null,
   "metadata": {},
   "outputs": [],
   "source": []
  },
  {
   "cell_type": "markdown",
   "metadata": {},
   "source": [
    "One thing we notice is that there are a lot of nicknames. It might make more sense to look at the \"given name\", which is usually the first and middle names. To do this, we will need to split up these names. There is a built-in command for doing this in R:"
   ]
  },
  {
   "cell_type": "code",
   "execution_count": null,
   "metadata": {},
   "outputs": [],
   "source": []
  },
  {
   "cell_type": "markdown",
   "metadata": {},
   "source": [
    "## Exercise\n",
    "What were the top five most common first names for players born before 1900? After 1980?"
   ]
  },
  {
   "cell_type": "code",
   "execution_count": null,
   "metadata": {},
   "outputs": [],
   "source": []
  },
  {
   "cell_type": "markdown",
   "metadata": {},
   "source": [
    "## Finding distinct values\n",
    "\n",
    "Here's an example: I want to know how many distinct values are there? The `n_distinct()` function takes a vector of values, and returns the number of distinct values:"
   ]
  },
  {
   "cell_type": "code",
   "execution_count": 85,
   "metadata": {},
   "outputs": [
    {
     "data": {
      "text/html": [
       "3"
      ],
      "text/latex": [
       "3"
      ],
      "text/markdown": [
       "3"
      ],
      "text/plain": [
       "[1] 3"
      ]
     },
     "metadata": {},
     "output_type": "display_data"
    }
   ],
   "source": [
    "n_distinct(c(\"Michigan\", \"Ohio\", \"STATS 306\", \"Michigan\"))"
   ]
  },
  {
   "cell_type": "markdown",
   "metadata": {},
   "source": [
    "## Exercise\n",
    "How many distinct names were there among players born before 1900? After 1980?"
   ]
  },
  {
   "cell_type": "code",
   "execution_count": null,
   "metadata": {},
   "outputs": [],
   "source": []
  },
  {
   "cell_type": "markdown",
   "metadata": {},
   "source": [
    "Are there more or less unique names now than there were in the past? Let's consider the number of distinct names seen in each year:"
   ]
  },
  {
   "cell_type": "code",
   "execution_count": null,
   "metadata": {},
   "outputs": [],
   "source": []
  }
 ],
 "metadata": {
  "kernelspec": {
   "display_name": "R",
   "language": "R",
   "name": "ir"
  },
  "language_info": {
   "codemirror_mode": "r",
   "file_extension": ".r",
   "mimetype": "text/x-r-source",
   "name": "R",
   "pygments_lexer": "r",
   "version": "3.6.2"
  }
 },
 "nbformat": 4,
 "nbformat_minor": 1
}
