{
 "cells": [
  {
   "cell_type": "markdown",
   "metadata": {},
   "source": [
    "# STATS 306 Fall 2020\n",
    "## Homework 1: Plotting with `ggplot`, 30 points\n",
    "\n",
    "- For each problem, enter the R code in the cell provided which reproduces the plot. Your code should print this plot in the notebook. \n",
    "- Your plot should match the colors, axis labels & titles, plot type, orientation, and so forth. We do not care about minor visual differences in the font, plot width or height, placement of labels or annotations, etc. Using a different color scheme is fine.\n",
    "\n",
    "\n",
    "**Assigned:** 09/10/2020 at 12pm\n",
    "\n",
    "**Due:** 09/17/2020 by 12pm"
   ]
  },
  {
   "cell_type": "markdown",
   "metadata": {},
   "source": [
    "For your homework, you will be using the packages `tidyverse` and load the Rdata file `newflight.RData`."
   ]
  },
  {
   "cell_type": "markdown",
   "metadata": {},
   "source": [
    "## Problem 1 (Recap of Lecture 1), 4 points"
   ]
  },
  {
   "cell_type": "markdown",
   "metadata": {},
   "source": [
    "**(a)** Write the command to install the package `tidyverse`. _1 point_"
   ]
  },
  {
   "cell_type": "code",
   "execution_count": null,
   "metadata": {},
   "outputs": [],
   "source": []
  },
  {
   "cell_type": "markdown",
   "metadata": {},
   "source": [
    "**(b)** Write the command to get help on the `mpg` data set and load the `mpg` data set. _1 point_"
   ]
  },
  {
   "cell_type": "code",
   "execution_count": null,
   "metadata": {},
   "outputs": [],
   "source": []
  },
  {
   "cell_type": "markdown",
   "metadata": {},
   "source": [
    "**(c)** How many rows and columns does the `mpg` data set have? _1 point_"
   ]
  },
  {
   "cell_type": "code",
   "execution_count": null,
   "metadata": {},
   "outputs": [],
   "source": []
  },
  {
   "cell_type": "markdown",
   "metadata": {},
   "source": [
    "**(d)** To create a scatterplot using `displ` and `hwy` variables in the mpg data\n",
    "frame, Professor Tan uses the following command\n",
    "\n",
    "```\n",
    "ggplot(data = mpg) +\n",
    "    geom_point(mapping = (x = displ, y = hwy))\n",
    "```\n",
    "\n",
    "Fix Professor Tan's code and type it below to produce a scatterplot. _1 point_"
   ]
  },
  {
   "cell_type": "code",
   "execution_count": null,
   "metadata": {},
   "outputs": [],
   "source": []
  },
  {
   "cell_type": "markdown",
   "metadata": {},
   "source": [
    "## Problem 2 (Using Color Aesthetic in ggplot), 4 points"
   ]
  },
  {
   "cell_type": "markdown",
   "metadata": {},
   "source": [
    "**(a)** Write the code to generate the following plot using the `mpg` data set. _2 points_\n",
    "\n",
    "![title](https://github.com/keanmingtan/stats306_fall2020/blob/master/HW/HW1/Rplot1.jpeg?raw=true)"
   ]
  },
  {
   "cell_type": "code",
   "execution_count": null,
   "metadata": {},
   "outputs": [],
   "source": []
  },
  {
   "cell_type": "markdown",
   "metadata": {},
   "source": [
    "**(b)** Write the code to generate the following plot using the `mpg` data set. _2 points_\n",
    "\n",
    "![title](https://github.com/keanmingtan/stats306_fall2020/blob/master/HW/HW1/Rplot2.jpeg?raw=true)"
   ]
  },
  {
   "cell_type": "code",
   "execution_count": null,
   "metadata": {},
   "outputs": [],
   "source": []
  },
  {
   "cell_type": "markdown",
   "metadata": {},
   "source": [
    "## Problem 3 (More about Aesthetic and Facets), 4 points"
   ]
  },
  {
   "cell_type": "markdown",
   "metadata": {},
   "source": [
    "**(a)** Alice wanted to create a scatter plot using the `mpg` data sets with `displ` on the x-axis and `hwy` on the y-axis. However, she wanted the points to be in blue color. She wrote the following code.\n",
    "\n",
    "```\n",
    "ggplot(data = mpg) + \n",
    "  geom_point(mapping = aes(x = displ, y = hwy, color = \"blue\"))\n",
    "```\n",
    "\n",
    "This however doesn't quite achieve what Alice was trying to do. Can you help her? Write the correct code below. _1 point_"
   ]
  },
  {
   "cell_type": "code",
   "execution_count": null,
   "metadata": {},
   "outputs": [],
   "source": []
  },
  {
   "cell_type": "markdown",
   "metadata": {},
   "source": [
    "**(b)** Write the code to generate the following plot using the `mpg` data set. _3 points_\n",
    "\n",
    "![title](https://github.com/keanmingtan/stats306_fall2020/blob/master/HW/HW1/Rplot3.jpeg?raw=true)"
   ]
  },
  {
   "cell_type": "code",
   "execution_count": null,
   "metadata": {},
   "outputs": [],
   "source": []
  },
  {
   "cell_type": "markdown",
   "metadata": {},
   "source": [
    "## Problem 4 (Using Different Geom), 16 points"
   ]
  },
  {
   "cell_type": "markdown",
   "metadata": {},
   "source": [
    "**(a)** Write the code to generate the following plot using the `mpg` data set. _4 points_\n",
    "\n",
    "![title](https://github.com/keanmingtan/stats306_fall2020/blob/master/HW/HW1/Rplot4.jpeg?raw=true)"
   ]
  },
  {
   "cell_type": "code",
   "execution_count": null,
   "metadata": {},
   "outputs": [],
   "source": []
  },
  {
   "cell_type": "markdown",
   "metadata": {},
   "source": [
    "**(b)** Write the code to generate the following barcharts using the `mpg` data set. _4 points_\n",
    "\n",
    "![title](https://github.com/keanmingtan/stats306_fall2020/blob/master/HW/HW1/p1.png?raw=true)"
   ]
  },
  {
   "cell_type": "code",
   "execution_count": null,
   "metadata": {},
   "outputs": [],
   "source": []
  },
  {
   "cell_type": "markdown",
   "metadata": {},
   "source": [
    "**(c)** Load the `Rdata` file `newflight.RData`. Now you have flights data from NYC in 2013 by the top five carriers.  \n",
    "Using this `newflight` data set, recreate the following barcharts showing which of the top five carriers depart out of each of the three NYC airports: 4 points\n",
    "\n",
    "![title](https://github.com/keanmingtan/stats306_fall2020/blob/master/HW/HW1/barchart.png?raw=true)\n"
   ]
  },
  {
   "cell_type": "code",
   "execution_count": null,
   "metadata": {},
   "outputs": [],
   "source": []
  },
  {
   "cell_type": "markdown",
   "metadata": {},
   "source": [
    "**(d)** Write the code to generate the following piechart that summarizes the flights counts for each of the airlines for the `newflight` data. _4 points_\n",
    "\n",
    "![title](https://github.com/keanmingtan/stats306_fall2020/blob/master/HW/HW1/piechart.png?raw=true)"
   ]
  },
  {
   "cell_type": "code",
   "execution_count": null,
   "metadata": {},
   "outputs": [],
   "source": []
  },
  {
   "cell_type": "markdown",
   "metadata": {},
   "source": [
    "## Problem 5 (Challenging Problem), 2 points"
   ]
  },
  {
   "cell_type": "markdown",
   "metadata": {},
   "source": [
    "Each problem set will feature one or two questions that go a bit beyond what we have covered in lab and lecture. The goal of these is for you learn how to use online resources (R's help, Google, Stack Overflow, etc.) to solve programming challenges that you have not encountered before. This is an important skill which you will use constantly as data scientists in the real world."
   ]
  },
  {
   "cell_type": "markdown",
   "metadata": {},
   "source": [
    "Load the `diamonds` data set.  Reproduce the following plot. \n",
    "\n",
    "(Hint: for this plot, you will need figure out how to manually manipulate the ticks on the $x$ and $y$ axes.)\n",
    "\n",
    "![title](https://github.com/keanmingtan/stats306_fall2020/blob/master/HW/HW1/carat.png?raw=true)"
   ]
  },
  {
   "cell_type": "code",
   "execution_count": null,
   "metadata": {},
   "outputs": [],
   "source": []
  }
 ],
 "metadata": {
  "kernelspec": {
   "display_name": "R",
   "language": "R",
   "name": "ir"
  },
  "language_info": {
   "codemirror_mode": "r",
   "file_extension": ".r",
   "mimetype": "text/x-r-source",
   "name": "R",
   "pygments_lexer": "r",
   "version": "3.6.2"
  }
 },
 "nbformat": 4,
 "nbformat_minor": 2
}
