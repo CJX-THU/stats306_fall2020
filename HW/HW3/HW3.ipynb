{
 "cells": [
  {
   "cell_type": "markdown",
   "metadata": {},
   "source": [
    "# STATS 306 Fall 2020\n",
    "## Homework 3: More about Data Transformation, 30 points\n",
    "\n",
    "\n",
    "\n",
    "**Assigned:** 09/24/2020 at 12pm\n",
    "\n",
    "**Due:** 10/01/2020 by 11:59pm"
   ]
  },
  {
   "cell_type": "markdown",
   "metadata": {},
   "source": [
    "Your uniqid: `<replace with your uniqid>`"
   ]
  },
  {
   "cell_type": "markdown",
   "metadata": {},
   "source": [
    "For your homework, you will be using the packages `tidyverse`, `nycflights13`, and `bil.RData`.  The `flights` data set will be available after loading the library `nycflights13`.   To install the packages and load the library, follow the instruction below.  To load `bil.RData`, you have to put `bil.RData` in the same folder as your `HW3.ipynb` and type `load(\"bil.RData\")`. "
   ]
  },
  {
   "cell_type": "code",
   "execution_count": 4,
   "metadata": {},
   "outputs": [
    {
     "name": "stderr",
     "output_type": "stream",
     "text": [
      "── \u001b[1mAttaching packages\u001b[22m ─────────────────────────────────────── tidyverse 1.3.0 ──\n",
      "\n",
      "\u001b[32m✔\u001b[39m \u001b[34mggplot2\u001b[39m 3.3.2     \u001b[32m✔\u001b[39m \u001b[34mpurrr  \u001b[39m 0.3.4\n",
      "\u001b[32m✔\u001b[39m \u001b[34mtibble \u001b[39m 3.0.3     \u001b[32m✔\u001b[39m \u001b[34mdplyr  \u001b[39m 1.0.2\n",
      "\u001b[32m✔\u001b[39m \u001b[34mtidyr  \u001b[39m 1.1.1     \u001b[32m✔\u001b[39m \u001b[34mstringr\u001b[39m 1.4.0\n",
      "\u001b[32m✔\u001b[39m \u001b[34mreadr  \u001b[39m 1.3.1     \u001b[32m✔\u001b[39m \u001b[34mforcats\u001b[39m 0.5.0\n",
      "\n",
      "── \u001b[1mConflicts\u001b[22m ────────────────────────────────────────── tidyverse_conflicts() ──\n",
      "\u001b[31m✖\u001b[39m \u001b[34mdplyr\u001b[39m::\u001b[32mfilter()\u001b[39m masks \u001b[34mstats\u001b[39m::filter()\n",
      "\u001b[31m✖\u001b[39m \u001b[34mdplyr\u001b[39m::\u001b[32mlag()\u001b[39m    masks \u001b[34mstats\u001b[39m::lag()\n",
      "\n"
     ]
    }
   ],
   "source": [
    "library(tidyverse)\n",
    "library(nycflights13)"
   ]
  },
  {
   "cell_type": "code",
   "execution_count": 30,
   "metadata": {},
   "outputs": [
    {
     "name": "stdout",
     "output_type": "stream",
     "text": [
      "\u001b[38;5;246m# A tibble: 2,614 x 22\u001b[39m\n",
      "     age category citizenship company.name company.type `country code` founded\n",
      "   \u001b[3m\u001b[38;5;246m<int>\u001b[39m\u001b[23m \u001b[3m\u001b[38;5;246m<chr>\u001b[39m\u001b[23m    \u001b[3m\u001b[38;5;246m<chr>\u001b[39m\u001b[23m       \u001b[3m\u001b[38;5;246m<chr>\u001b[39m\u001b[23m        \u001b[3m\u001b[38;5;246m<chr>\u001b[39m\u001b[23m        \u001b[3m\u001b[38;5;246m<chr>\u001b[39m\u001b[23m            \u001b[3m\u001b[38;5;246m<int>\u001b[39m\u001b[23m\n",
      "\u001b[38;5;250m 1\u001b[39m    -\u001b[31m1\u001b[39m Financi… Saudi Arab… Rolaco Trad… new          SAU               \u001b[4m1\u001b[24m968\n",
      "\u001b[38;5;250m 2\u001b[39m    34 Financi… United Sta… Fidelity In… new          USA               \u001b[4m1\u001b[24m946\n",
      "\u001b[38;5;250m 3\u001b[39m    59 Non-Tra… Brazil      Companhia B… new          BRA               \u001b[4m1\u001b[24m948\n",
      "\u001b[38;5;250m 4\u001b[39m    61 New Sec… Germany     Ratiopharm   new          DEU               \u001b[4m1\u001b[24m881\n",
      "\u001b[38;5;250m 5\u001b[39m    -\u001b[31m1\u001b[39m Financi… Hong Kong   Swire        new          HKG               \u001b[4m1\u001b[24m816\n",
      "\u001b[38;5;250m 6\u001b[39m    -\u001b[31m1\u001b[39m Traded … Bahrain     YBA Kanoo    new          BHR               \u001b[4m1\u001b[24m890\n",
      "\u001b[38;5;250m 7\u001b[39m    -\u001b[31m1\u001b[39m New Sec… Japan       Otsuka Hold… new          JPN               \u001b[4m1\u001b[24m921\n",
      "\u001b[38;5;250m 8\u001b[39m    -\u001b[31m1\u001b[39m Traded … Japan       Sony         new          JPN               \u001b[4m1\u001b[24m946\n",
      "\u001b[38;5;250m 9\u001b[39m    66 Financi… Japan       Mori Buildi… new          JPN               \u001b[4m1\u001b[24m959\n",
      "\u001b[38;5;250m10\u001b[39m    -\u001b[31m1\u001b[39m Traded … France      Chanel       new          FRA               \u001b[4m1\u001b[24m909\n",
      "\u001b[38;5;246m# … with 2,604 more rows, and 15 more variables: `from emerging` \u001b[3m\u001b[38;5;246m<chr>\u001b[38;5;246m\u001b[23m,\u001b[39m\n",
      "\u001b[38;5;246m#   gdp \u001b[3m\u001b[38;5;246m<dbl>\u001b[38;5;246m\u001b[23m, gender \u001b[3m\u001b[38;5;246m<chr>\u001b[38;5;246m\u001b[23m, industry \u001b[3m\u001b[38;5;246m<chr>\u001b[38;5;246m\u001b[23m, inherited \u001b[3m\u001b[38;5;246m<chr>\u001b[38;5;246m\u001b[23m, name \u001b[3m\u001b[38;5;246m<chr>\u001b[38;5;246m\u001b[23m,\u001b[39m\n",
      "\u001b[38;5;246m#   rank \u001b[3m\u001b[38;5;246m<int>\u001b[38;5;246m\u001b[23m, region \u001b[3m\u001b[38;5;246m<chr>\u001b[38;5;246m\u001b[23m, relationship \u001b[3m\u001b[38;5;246m<chr>\u001b[38;5;246m\u001b[23m, sector \u001b[3m\u001b[38;5;246m<chr>\u001b[38;5;246m\u001b[23m, `was\u001b[39m\n",
      "\u001b[38;5;246m#   founder` \u001b[3m\u001b[38;5;246m<chr>\u001b[38;5;246m\u001b[23m, `was political` \u001b[3m\u001b[38;5;246m<chr>\u001b[38;5;246m\u001b[23m, wealth.type \u001b[3m\u001b[38;5;246m<chr>\u001b[38;5;246m\u001b[23m, `worth in\u001b[39m\n",
      "\u001b[38;5;246m#   billions` \u001b[3m\u001b[38;5;246m<dbl>\u001b[38;5;246m\u001b[23m, year \u001b[3m\u001b[38;5;246m<int>\u001b[38;5;246m\u001b[23m\u001b[39m\n"
     ]
    }
   ],
   "source": [
    "load(\"bil.RData\")\n",
    "print(bil)"
   ]
  },
  {
   "cell_type": "markdown",
   "metadata": {},
   "source": [
    "## Problem 1, 8 points"
   ]
  },
  {
   "cell_type": "markdown",
   "metadata": {},
   "source": [
    "**(a)**  Alice wants to compute the mean departure delay (`dep_delay`) of flights grouped by destination airport (`dest`). She types:\n",
    "\n",
    "```\n",
    "flights %>%\n",
    "    group_by(dest) %>%\n",
    "    summarize(delay = mean(dep_delay))\n",
    "```\n",
    "\n",
    "But most of the values in the `delay` column of the computed tibble are `NA`. Explain, as briefly as possible, what is going on?, _1 point_"
   ]
  },
  {
   "cell_type": "markdown",
   "metadata": {},
   "source": []
  },
  {
   "cell_type": "markdown",
   "metadata": {},
   "source": [
    "**(b)** Modify Alice's code so that the code doesn't return a tibble with mostly `NA` for the `delay` column. _2 points_"
   ]
  },
  {
   "cell_type": "code",
   "execution_count": null,
   "metadata": {},
   "outputs": [],
   "source": []
  },
  {
   "cell_type": "markdown",
   "metadata": {},
   "source": [
    "**(c)**  Building on your code from above, add a column named `count` in the summarized tibble that has the count of the number of flights flying to each destination airport. Then sort the rows in increasing order of `delay`. Use a single command involving pipes to accomplish both tasks. _3 points_ "
   ]
  },
  {
   "cell_type": "code",
   "execution_count": null,
   "metadata": {},
   "outputs": [],
   "source": []
  },
  {
   "cell_type": "markdown",
   "metadata": {},
   "source": [
    "**(4)** Which airport has the least average delay? How many flights is this conclusion drawn from? Is it a reliable conclusion? _2 points_"
   ]
  },
  {
   "cell_type": "markdown",
   "metadata": {},
   "source": []
  },
  {
   "cell_type": "markdown",
   "metadata": {},
   "source": [
    "## Problem 2, More Data Manipulation on Flight Data, 14 points"
   ]
  },
  {
   "cell_type": "markdown",
   "metadata": {},
   "source": [
    "**(a)** Drop the even-numbered columns of `flights`. Store the resulting data table in a variable called `tableeven`.  _2 points_"
   ]
  },
  {
   "cell_type": "code",
   "execution_count": null,
   "metadata": {},
   "outputs": [],
   "source": []
  },
  {
   "cell_type": "markdown",
   "metadata": {},
   "source": [
    "**(b)** The tail number of the flight which was in the air for the longest amount of time was `N77066` with an air-time of 695 minutes.  "
   ]
  },
  {
   "cell_type": "code",
   "execution_count": 31,
   "metadata": {},
   "outputs": [
    {
     "data": {
      "text/html": [
       "<table>\n",
       "<caption>A tibble: 6 × 2</caption>\n",
       "<thead>\n",
       "\t<tr><th scope=col>tailnum</th><th scope=col>air_time</th></tr>\n",
       "\t<tr><th scope=col>&lt;chr&gt;</th><th scope=col>&lt;dbl&gt;</th></tr>\n",
       "</thead>\n",
       "<tbody>\n",
       "\t<tr><td>N77066</td><td>695</td></tr>\n",
       "\t<tr><td>N389HA</td><td>691</td></tr>\n",
       "\t<tr><td>N388HA</td><td>686</td></tr>\n",
       "\t<tr><td>N380HA</td><td>686</td></tr>\n",
       "\t<tr><td>N384HA</td><td>683</td></tr>\n",
       "\t<tr><td>N386HA</td><td>679</td></tr>\n",
       "</tbody>\n",
       "</table>\n"
      ],
      "text/latex": [
       "A tibble: 6 × 2\n",
       "\\begin{tabular}{ll}\n",
       " tailnum & air\\_time\\\\\n",
       " <chr> & <dbl>\\\\\n",
       "\\hline\n",
       "\t N77066 & 695\\\\\n",
       "\t N389HA & 691\\\\\n",
       "\t N388HA & 686\\\\\n",
       "\t N380HA & 686\\\\\n",
       "\t N384HA & 683\\\\\n",
       "\t N386HA & 679\\\\\n",
       "\\end{tabular}\n"
      ],
      "text/markdown": [
       "\n",
       "A tibble: 6 × 2\n",
       "\n",
       "| tailnum &lt;chr&gt; | air_time &lt;dbl&gt; |\n",
       "|---|---|\n",
       "| N77066 | 695 |\n",
       "| N389HA | 691 |\n",
       "| N388HA | 686 |\n",
       "| N380HA | 686 |\n",
       "| N384HA | 683 |\n",
       "| N386HA | 679 |\n",
       "\n"
      ],
      "text/plain": [
       "  tailnum air_time\n",
       "1 N77066  695     \n",
       "2 N389HA  691     \n",
       "3 N388HA  686     \n",
       "4 N380HA  686     \n",
       "5 N384HA  683     \n",
       "6 N386HA  679     "
      ]
     },
     "metadata": {},
     "output_type": "display_data"
    }
   ],
   "source": [
    "flights %>% arrange(desc(air_time)) %>% select(tailnum, air_time) %>% head"
   ]
  },
  {
   "cell_type": "markdown",
   "metadata": {},
   "source": [
    "Find the *unique* tail numbers(s) of the flights that were in the air for the second longest and third shortest amounts of time. Store these tail numbers as vectors in variables called `longest2_tail_num` and `shortest3_tail_num`, respectively. _4 points_\n",
    "\n",
    "Hint: Think about ranks"
   ]
  },
  {
   "cell_type": "code",
   "execution_count": null,
   "metadata": {},
   "outputs": [],
   "source": []
  },
  {
   "cell_type": "markdown",
   "metadata": {},
   "source": [
    "**(c)** There are four flights which have a tail number that does not begin with the letter \"N\". Find those rows and  print them out. _2 points_\n",
    "\n",
    "(*Hint*: the `str_sub()` command can be used to extract the first character of a string variable.)"
   ]
  },
  {
   "cell_type": "code",
   "execution_count": null,
   "metadata": {},
   "outputs": [],
   "source": []
  },
  {
   "cell_type": "markdown",
   "metadata": {},
   "source": [
    "**(d)** Select all the columns in flights which end with \"delay\". In the resulting table, define a new column `max_delay` which equals the maximum of the departure and arrival delays for each flight. For example, if a flight had a departure delay of `-1` and an arrival delay of `10`, the `max_delay` would equal `10`. If one or both of the delay columns is `NA`, `max_delay` should also equal `NA`. Sort your table in descending order of `max_delay` and store it in a variable called `max_delay_table`. Print the table out using the `print` function.  The first row of your table should print `1301`, `1272`, `1301` _3 points_\n",
    "\n",
    "Hint: you may find the function `pmax` useful.  "
   ]
  },
  {
   "cell_type": "code",
   "execution_count": null,
   "metadata": {},
   "outputs": [],
   "source": []
  },
  {
   "cell_type": "markdown",
   "metadata": {},
   "source": [
    "**(e) Challenge Problem** Recall that each airplane has a unique tail number given by `tailnum`. Find the tail number of the airplane which flew to the largest number of *unique* destinations from any of the the three departure airports in `flights`. Store the string containing this tail number in a variable called `most_dests`. _3 points_\n",
    "\n",
    "Hint: you may find the function `distint` and `ungroup` useful."
   ]
  },
  {
   "cell_type": "code",
   "execution_count": null,
   "metadata": {},
   "outputs": [],
   "source": []
  },
  {
   "cell_type": "markdown",
   "metadata": {},
   "source": [
    "## Problem 3, Thoughts on Billionaires , 8 points"
   ]
  },
  {
   "cell_type": "markdown",
   "metadata": {},
   "source": [
    "**(a)** In which country are billionaires oldest on average? Youngest? (Assume all billionaires reside in country of their citizenship.) Do not count any country which has less than five observations. Store your answers in variables `oldest1` and `youngest1`, respectively. _4 points_"
   ]
  },
  {
   "cell_type": "code",
   "execution_count": null,
   "metadata": {},
   "outputs": [],
   "source": []
  },
  {
   "cell_type": "markdown",
   "metadata": {},
   "source": [
    "**(b) Challenge Problem** Each billionaire has a `category` indicating how they made their fortune. The overall distribution of categories is:"
   ]
  },
  {
   "cell_type": "code",
   "execution_count": 32,
   "metadata": {},
   "outputs": [
    {
     "data": {
      "text/plain": [
       "\n",
       "            energy            Finance          Financial        New Sectors \n",
       "                 1                  1                800                319 \n",
       "Non-Traded Sectors   Resource Related     Traded Sectors           Trucking \n",
       "               597                245                564                  1 "
      ]
     },
     "metadata": {},
     "output_type": "display_data"
    }
   ],
   "source": [
    "table(bil$category)"
   ]
  },
  {
   "cell_type": "markdown",
   "metadata": {},
   "source": [
    "After excluding billionaires with missing ages, group them into three age brackets: \"40 and under\", \"41 to 65\", and \"above 65\". (There are 90 billionaires aged 40 and under, for example.) What is the most common category of billionaire in each of the three age brackets? Store your answer in `table2`. The table should have three rows (one per category) and three columns: `age_bracket`, `most_common_category` and `n`, the number of billionaires in the most common category. Sort the table in descending order of `n`. _4 points_\n",
    "\n",
    "Hint: You may find the function ifelse useful, type ?ifelse to learn more about it in R.  You can create a variable using mutate and the function ifelse.  "
   ]
  },
  {
   "cell_type": "code",
   "execution_count": null,
   "metadata": {},
   "outputs": [],
   "source": []
  }
 ],
 "metadata": {
  "kernelspec": {
   "display_name": "R",
   "language": "R",
   "name": "ir"
  },
  "language_info": {
   "codemirror_mode": "r",
   "file_extension": ".r",
   "mimetype": "text/x-r-source",
   "name": "R",
   "pygments_lexer": "r",
   "version": "3.6.2"
  }
 },
 "nbformat": 4,
 "nbformat_minor": 2
}
