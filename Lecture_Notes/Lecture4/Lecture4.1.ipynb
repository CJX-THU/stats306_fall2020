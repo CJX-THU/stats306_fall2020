{
 "cells": [
  {
   "cell_type": "markdown",
   "metadata": {},
   "source": [
    "# Lecture 4.1: More about Data Transformation\n",
    "\n",
    "<div style=\"border: 1px double black; padding: 10px; margin: 10px\">\n",
    "\n",
    "**Goals for today's lecture:**\n",
    "* A review on R basics\n",
    "* Learn more about `group_by`\n",
    "* Summary of what we have learnt and common mistakes\n",
    "    \n",
    "This lecture note corresponds to Chapter 5.6--5.7 of your book.\n",
    "</div>\n"
   ]
  },
  {
   "cell_type": "code",
   "execution_count": 32,
   "metadata": {},
   "outputs": [],
   "source": [
    "library(tidyverse)\n",
    "library(nycflights13)"
   ]
  },
  {
   "cell_type": "markdown",
   "metadata": {},
   "source": [
    "## Useful Functions in R for Data Transformation\n",
    "\n",
    "R provides you with several in-built vectorized functions that can be used to create more complicated function. These include:\n",
    "\n",
    "* **Arithmetic operators** `+, -, *, /, ^`\n",
    "* **Modular arithmetic operators** `%/%` and `%%` \n",
    "* **Logarithms** `log()`, `log10()`, `log2()`\n",
    "* **Offsets** `lag()` and `lead()`"
   ]
  },
  {
   "cell_type": "markdown",
   "metadata": {},
   "source": [
    "To do a regular division, we use `/`.  To do an integer division, we use the code `%/%`. Integer division is a division in which the fractional part (remainder) is discarded."
   ]
  },
  {
   "cell_type": "code",
   "execution_count": 33,
   "metadata": {},
   "outputs": [
    {
     "data": {
      "text/html": [
       "1.33333333333333"
      ],
      "text/latex": [
       "1.33333333333333"
      ],
      "text/markdown": [
       "1.33333333333333"
      ],
      "text/plain": [
       "[1] 1.333333"
      ]
     },
     "metadata": {},
     "output_type": "display_data"
    },
    {
     "data": {
      "text/html": [
       "1"
      ],
      "text/latex": [
       "1"
      ],
      "text/markdown": [
       "1"
      ],
      "text/plain": [
       "[1] 1"
      ]
     },
     "metadata": {},
     "output_type": "display_data"
    }
   ],
   "source": [
    "4 / 3   \n",
    "4 %/% 3 "
   ]
  },
  {
   "cell_type": "markdown",
   "metadata": {},
   "source": [
    "Sometimes you will find the modular operation `%%` useful.  This is outputting the fractional part of a division.  "
   ]
  },
  {
   "cell_type": "code",
   "execution_count": 35,
   "metadata": {},
   "outputs": [
    {
     "data": {
      "text/html": [
       "1"
      ],
      "text/latex": [
       "1"
      ],
      "text/markdown": [
       "1"
      ],
      "text/plain": [
       "[1] 1"
      ]
     },
     "metadata": {},
     "output_type": "display_data"
    }
   ],
   "source": [
    "1%%5 "
   ]
  },
  {
   "cell_type": "code",
   "execution_count": 36,
   "metadata": {},
   "outputs": [
    {
     "data": {
      "text/html": [
       "3"
      ],
      "text/latex": [
       "3"
      ],
      "text/markdown": [
       "3"
      ],
      "text/plain": [
       "[1] 3"
      ]
     },
     "metadata": {},
     "output_type": "display_data"
    }
   ],
   "source": [
    "3%%5"
   ]
  },
  {
   "cell_type": "code",
   "execution_count": 37,
   "metadata": {},
   "outputs": [
    {
     "data": {
      "text/html": [
       "0"
      ],
      "text/latex": [
       "0"
      ],
      "text/markdown": [
       "0"
      ],
      "text/plain": [
       "[1] 0"
      ]
     },
     "metadata": {},
     "output_type": "display_data"
    }
   ],
   "source": [
    "5%%5"
   ]
  },
  {
   "cell_type": "code",
   "execution_count": 34,
   "metadata": {},
   "outputs": [
    {
     "data": {
      "text/html": [
       "<style>\n",
       ".list-inline {list-style: none; margin:0; padding: 0}\n",
       ".list-inline>li {display: inline-block}\n",
       ".list-inline>li:not(:last-child)::after {content: \"\\00b7\"; padding: 0 .5ex}\n",
       "</style>\n",
       "<ol class=list-inline><li>1</li><li>2</li><li>3</li><li>4</li><li>0</li><li>1</li><li>2</li><li>3</li><li>4</li><li>0</li><li>1</li><li>2</li><li>3</li><li>4</li><li>0</li><li>1</li><li>2</li><li>3</li><li>4</li><li>0</li></ol>\n"
      ],
      "text/latex": [
       "\\begin{enumerate*}\n",
       "\\item 1\n",
       "\\item 2\n",
       "\\item 3\n",
       "\\item 4\n",
       "\\item 0\n",
       "\\item 1\n",
       "\\item 2\n",
       "\\item 3\n",
       "\\item 4\n",
       "\\item 0\n",
       "\\item 1\n",
       "\\item 2\n",
       "\\item 3\n",
       "\\item 4\n",
       "\\item 0\n",
       "\\item 1\n",
       "\\item 2\n",
       "\\item 3\n",
       "\\item 4\n",
       "\\item 0\n",
       "\\end{enumerate*}\n"
      ],
      "text/markdown": [
       "1. 1\n",
       "2. 2\n",
       "3. 3\n",
       "4. 4\n",
       "5. 0\n",
       "6. 1\n",
       "7. 2\n",
       "8. 3\n",
       "9. 4\n",
       "10. 0\n",
       "11. 1\n",
       "12. 2\n",
       "13. 3\n",
       "14. 4\n",
       "15. 0\n",
       "16. 1\n",
       "17. 2\n",
       "18. 3\n",
       "19. 4\n",
       "20. 0\n",
       "\n",
       "\n"
      ],
      "text/plain": [
       " [1] 1 2 3 4 0 1 2 3 4 0 1 2 3 4 0 1 2 3 4 0"
      ]
     },
     "metadata": {},
     "output_type": "display_data"
    }
   ],
   "source": [
    "1:20 %% 5  # shorter argument 5 is extended to match length of longer argument"
   ]
  },
  {
   "cell_type": "markdown",
   "metadata": {},
   "source": [
    "The shorter argument 5 is extended to match length of longer argument"
   ]
  },
  {
   "cell_type": "markdown",
   "metadata": {},
   "source": [
    "You may also find the function `lag` and `lead` useful.   For instance, `lag` computes a lagged version of a time series, shifting the time base back by a given number of observations."
   ]
  },
  {
   "cell_type": "code",
   "execution_count": 43,
   "metadata": {},
   "outputs": [
    {
     "data": {
      "text/html": [
       "<style>\n",
       ".list-inline {list-style: none; margin:0; padding: 0}\n",
       ".list-inline>li {display: inline-block}\n",
       ".list-inline>li:not(:last-child)::after {content: \"\\00b7\"; padding: 0 .5ex}\n",
       "</style>\n",
       "<ol class=list-inline><li>1</li><li>2</li><li>3</li><li>4</li><li>5</li><li>6</li><li>7</li><li>8</li><li>9</li><li>10</li></ol>\n"
      ],
      "text/latex": [
       "\\begin{enumerate*}\n",
       "\\item 1\n",
       "\\item 2\n",
       "\\item 3\n",
       "\\item 4\n",
       "\\item 5\n",
       "\\item 6\n",
       "\\item 7\n",
       "\\item 8\n",
       "\\item 9\n",
       "\\item 10\n",
       "\\end{enumerate*}\n"
      ],
      "text/markdown": [
       "1. 1\n",
       "2. 2\n",
       "3. 3\n",
       "4. 4\n",
       "5. 5\n",
       "6. 6\n",
       "7. 7\n",
       "8. 8\n",
       "9. 9\n",
       "10. 10\n",
       "\n",
       "\n"
      ],
      "text/plain": [
       " [1]  1  2  3  4  5  6  7  8  9 10"
      ]
     },
     "metadata": {},
     "output_type": "display_data"
    },
    {
     "data": {
      "text/html": [
       "<style>\n",
       ".list-inline {list-style: none; margin:0; padding: 0}\n",
       ".list-inline>li {display: inline-block}\n",
       ".list-inline>li:not(:last-child)::after {content: \"\\00b7\"; padding: 0 .5ex}\n",
       "</style>\n",
       "<ol class=list-inline><li>&lt;NA&gt;</li><li>1</li><li>2</li><li>3</li><li>4</li><li>5</li><li>6</li><li>7</li><li>8</li><li>9</li></ol>\n"
      ],
      "text/latex": [
       "\\begin{enumerate*}\n",
       "\\item <NA>\n",
       "\\item 1\n",
       "\\item 2\n",
       "\\item 3\n",
       "\\item 4\n",
       "\\item 5\n",
       "\\item 6\n",
       "\\item 7\n",
       "\\item 8\n",
       "\\item 9\n",
       "\\end{enumerate*}\n"
      ],
      "text/markdown": [
       "1. &lt;NA&gt;\n",
       "2. 1\n",
       "3. 2\n",
       "4. 3\n",
       "5. 4\n",
       "6. 5\n",
       "7. 6\n",
       "8. 7\n",
       "9. 8\n",
       "10. 9\n",
       "\n",
       "\n"
      ],
      "text/plain": [
       " [1] NA  1  2  3  4  5  6  7  8  9"
      ]
     },
     "metadata": {},
     "output_type": "display_data"
    },
    {
     "data": {
      "text/html": [
       "<style>\n",
       ".list-inline {list-style: none; margin:0; padding: 0}\n",
       ".list-inline>li {display: inline-block}\n",
       ".list-inline>li:not(:last-child)::after {content: \"\\00b7\"; padding: 0 .5ex}\n",
       "</style>\n",
       "<ol class=list-inline><li>2</li><li>3</li><li>4</li><li>5</li><li>6</li><li>7</li><li>8</li><li>9</li><li>10</li><li>&lt;NA&gt;</li></ol>\n"
      ],
      "text/latex": [
       "\\begin{enumerate*}\n",
       "\\item 2\n",
       "\\item 3\n",
       "\\item 4\n",
       "\\item 5\n",
       "\\item 6\n",
       "\\item 7\n",
       "\\item 8\n",
       "\\item 9\n",
       "\\item 10\n",
       "\\item <NA>\n",
       "\\end{enumerate*}\n"
      ],
      "text/markdown": [
       "1. 2\n",
       "2. 3\n",
       "3. 4\n",
       "4. 5\n",
       "5. 6\n",
       "6. 7\n",
       "7. 8\n",
       "8. 9\n",
       "9. 10\n",
       "10. &lt;NA&gt;\n",
       "\n",
       "\n"
      ],
      "text/plain": [
       " [1]  2  3  4  5  6  7  8  9 10 NA"
      ]
     },
     "metadata": {},
     "output_type": "display_data"
    }
   ],
   "source": [
    "(x <- 1:10)\n",
    "lag(x)\n",
    "lead(x)"
   ]
  },
  {
   "cell_type": "markdown",
   "metadata": {},
   "source": [
    "We also have:\n",
    "\n",
    "* **Logical comparisons** `==, !=, <, <=, >, >=`\n",
    "* **Cumulative aggregates** `cumsum(), cumprod(), cummin(), cummax()` (`dplyr` also provides `cummean()`)"
   ]
  },
  {
   "cell_type": "code",
   "execution_count": 44,
   "metadata": {},
   "outputs": [
    {
     "data": {
      "text/html": [
       "FALSE"
      ],
      "text/latex": [
       "FALSE"
      ],
      "text/markdown": [
       "FALSE"
      ],
      "text/plain": [
       "[1] FALSE"
      ]
     },
     "metadata": {},
     "output_type": "display_data"
    },
    {
     "data": {
      "text/html": [
       "<style>\n",
       ".list-inline {list-style: none; margin:0; padding: 0}\n",
       ".list-inline>li {display: inline-block}\n",
       ".list-inline>li:not(:last-child)::after {content: \"\\00b7\"; padding: 0 .5ex}\n",
       "</style>\n",
       "<ol class=list-inline><li>TRUE</li><li>TRUE</li><li>TRUE</li><li>TRUE</li><li>TRUE</li><li>TRUE</li><li>TRUE</li><li>TRUE</li><li>TRUE</li><li>TRUE</li></ol>\n"
      ],
      "text/latex": [
       "\\begin{enumerate*}\n",
       "\\item TRUE\n",
       "\\item TRUE\n",
       "\\item TRUE\n",
       "\\item TRUE\n",
       "\\item TRUE\n",
       "\\item TRUE\n",
       "\\item TRUE\n",
       "\\item TRUE\n",
       "\\item TRUE\n",
       "\\item TRUE\n",
       "\\end{enumerate*}\n"
      ],
      "text/markdown": [
       "1. TRUE\n",
       "2. TRUE\n",
       "3. TRUE\n",
       "4. TRUE\n",
       "5. TRUE\n",
       "6. TRUE\n",
       "7. TRUE\n",
       "8. TRUE\n",
       "9. TRUE\n",
       "10. TRUE\n",
       "\n",
       "\n"
      ],
      "text/plain": [
       " [1] TRUE TRUE TRUE TRUE TRUE TRUE TRUE TRUE TRUE TRUE"
      ]
     },
     "metadata": {},
     "output_type": "display_data"
    },
    {
     "data": {
      "text/html": [
       "<style>\n",
       ".list-inline {list-style: none; margin:0; padding: 0}\n",
       ".list-inline>li {display: inline-block}\n",
       ".list-inline>li:not(:last-child)::after {content: \"\\00b7\"; padding: 0 .5ex}\n",
       "</style>\n",
       "<ol class=list-inline><li>TRUE</li><li>TRUE</li><li>TRUE</li><li>TRUE</li><li>FALSE</li><li>FALSE</li><li>FALSE</li><li>FALSE</li><li>FALSE</li><li>FALSE</li></ol>\n"
      ],
      "text/latex": [
       "\\begin{enumerate*}\n",
       "\\item TRUE\n",
       "\\item TRUE\n",
       "\\item TRUE\n",
       "\\item TRUE\n",
       "\\item FALSE\n",
       "\\item FALSE\n",
       "\\item FALSE\n",
       "\\item FALSE\n",
       "\\item FALSE\n",
       "\\item FALSE\n",
       "\\end{enumerate*}\n"
      ],
      "text/markdown": [
       "1. TRUE\n",
       "2. TRUE\n",
       "3. TRUE\n",
       "4. TRUE\n",
       "5. FALSE\n",
       "6. FALSE\n",
       "7. FALSE\n",
       "8. FALSE\n",
       "9. FALSE\n",
       "10. FALSE\n",
       "\n",
       "\n"
      ],
      "text/plain": [
       " [1]  TRUE  TRUE  TRUE  TRUE FALSE FALSE FALSE FALSE FALSE FALSE"
      ]
     },
     "metadata": {},
     "output_type": "display_data"
    },
    {
     "data": {
      "text/html": [
       "<style>\n",
       ".list-inline {list-style: none; margin:0; padding: 0}\n",
       ".list-inline>li {display: inline-block}\n",
       ".list-inline>li:not(:last-child)::after {content: \"\\00b7\"; padding: 0 .5ex}\n",
       "</style>\n",
       "<ol class=list-inline><li>FALSE</li><li>FALSE</li><li>FALSE</li><li>FALSE</li><li>FALSE</li><li>FALSE</li><li>FALSE</li><li>FALSE</li><li>FALSE</li><li>FALSE</li></ol>\n"
      ],
      "text/latex": [
       "\\begin{enumerate*}\n",
       "\\item FALSE\n",
       "\\item FALSE\n",
       "\\item FALSE\n",
       "\\item FALSE\n",
       "\\item FALSE\n",
       "\\item FALSE\n",
       "\\item FALSE\n",
       "\\item FALSE\n",
       "\\item FALSE\n",
       "\\item FALSE\n",
       "\\end{enumerate*}\n"
      ],
      "text/markdown": [
       "1. FALSE\n",
       "2. FALSE\n",
       "3. FALSE\n",
       "4. FALSE\n",
       "5. FALSE\n",
       "6. FALSE\n",
       "7. FALSE\n",
       "8. FALSE\n",
       "9. FALSE\n",
       "10. FALSE\n",
       "\n",
       "\n"
      ],
      "text/plain": [
       " [1] FALSE FALSE FALSE FALSE FALSE FALSE FALSE FALSE FALSE FALSE"
      ]
     },
     "metadata": {},
     "output_type": "display_data"
    }
   ],
   "source": [
    "5 < 5\n",
    "1:10 < 11:20\n",
    "1:10 < 5\n",
    "21 < 11:20"
   ]
  },
  {
   "cell_type": "code",
   "execution_count": 45,
   "metadata": {},
   "outputs": [
    {
     "data": {
      "text/html": [
       "<style>\n",
       ".list-inline {list-style: none; margin:0; padding: 0}\n",
       ".list-inline>li {display: inline-block}\n",
       ".list-inline>li:not(:last-child)::after {content: \"\\00b7\"; padding: 0 .5ex}\n",
       "</style>\n",
       "<ol class=list-inline><li>1</li><li>2</li><li>6</li><li>24</li><li>120</li><li>720</li><li>5040</li><li>40320</li><li>362880</li><li>3628800</li></ol>\n"
      ],
      "text/latex": [
       "\\begin{enumerate*}\n",
       "\\item 1\n",
       "\\item 2\n",
       "\\item 6\n",
       "\\item 24\n",
       "\\item 120\n",
       "\\item 720\n",
       "\\item 5040\n",
       "\\item 40320\n",
       "\\item 362880\n",
       "\\item 3628800\n",
       "\\end{enumerate*}\n"
      ],
      "text/markdown": [
       "1. 1\n",
       "2. 2\n",
       "3. 6\n",
       "4. 24\n",
       "5. 120\n",
       "6. 720\n",
       "7. 5040\n",
       "8. 40320\n",
       "9. 362880\n",
       "10. 3628800\n",
       "\n",
       "\n"
      ],
      "text/plain": [
       " [1]       1       2       6      24     120     720    5040   40320  362880\n",
       "[10] 3628800"
      ]
     },
     "metadata": {},
     "output_type": "display_data"
    },
    {
     "data": {
      "text/html": [
       "<style>\n",
       ".list-inline {list-style: none; margin:0; padding: 0}\n",
       ".list-inline>li {display: inline-block}\n",
       ".list-inline>li:not(:last-child)::after {content: \"\\00b7\"; padding: 0 .5ex}\n",
       "</style>\n",
       "<ol class=list-inline><li>1</li><li>3</li><li>6</li><li>10</li><li>15</li><li>21</li><li>28</li><li>36</li><li>45</li><li>55</li></ol>\n"
      ],
      "text/latex": [
       "\\begin{enumerate*}\n",
       "\\item 1\n",
       "\\item 3\n",
       "\\item 6\n",
       "\\item 10\n",
       "\\item 15\n",
       "\\item 21\n",
       "\\item 28\n",
       "\\item 36\n",
       "\\item 45\n",
       "\\item 55\n",
       "\\end{enumerate*}\n"
      ],
      "text/markdown": [
       "1. 1\n",
       "2. 3\n",
       "3. 6\n",
       "4. 10\n",
       "5. 15\n",
       "6. 21\n",
       "7. 28\n",
       "8. 36\n",
       "9. 45\n",
       "10. 55\n",
       "\n",
       "\n"
      ],
      "text/plain": [
       " [1]  1  3  6 10 15 21 28 36 45 55"
      ]
     },
     "metadata": {},
     "output_type": "display_data"
    }
   ],
   "source": [
    "(factorials <- cumprod(1:10))\n",
    "cumsum(1:10)"
   ]
  },
  {
   "cell_type": "markdown",
   "metadata": {},
   "source": [
    "## Ranking functions\n",
    "Sometimes, we want to *rank* our data by assigning integers for 1st place, 2nd place, etc. The functions `dense_rank()`, `min_rank()`, and `row_number()` can be used for this purpose:"
   ]
  },
  {
   "cell_type": "code",
   "execution_count": 10,
   "metadata": {},
   "outputs": [
    {
     "data": {
      "text/html": [
       "<style>\n",
       ".list-inline {list-style: none; margin:0; padding: 0}\n",
       ".list-inline>li {display: inline-block}\n",
       ".list-inline>li:not(:last-child)::after {content: \"\\00b7\"; padding: 0 .5ex}\n",
       "</style>\n",
       "<ol class=list-inline><li>3</li><li>2</li><li>1</li><li>2</li><li>4</li><li>4</li></ol>\n"
      ],
      "text/latex": [
       "\\begin{enumerate*}\n",
       "\\item 3\n",
       "\\item 2\n",
       "\\item 1\n",
       "\\item 2\n",
       "\\item 4\n",
       "\\item 4\n",
       "\\end{enumerate*}\n"
      ],
      "text/markdown": [
       "1. 3\n",
       "2. 2\n",
       "3. 1\n",
       "4. 2\n",
       "5. 4\n",
       "6. 4\n",
       "\n",
       "\n"
      ],
      "text/plain": [
       "[1] 3 2 1 2 4 4"
      ]
     },
     "metadata": {},
     "output_type": "display_data"
    },
    {
     "data": {
      "text/html": [
       "<style>\n",
       ".list-inline {list-style: none; margin:0; padding: 0}\n",
       ".list-inline>li {display: inline-block}\n",
       ".list-inline>li:not(:last-child)::after {content: \"\\00b7\"; padding: 0 .5ex}\n",
       "</style>\n",
       "<ol class=list-inline><li>4</li><li>2</li><li>1</li><li>2</li><li>5</li><li>5</li></ol>\n"
      ],
      "text/latex": [
       "\\begin{enumerate*}\n",
       "\\item 4\n",
       "\\item 2\n",
       "\\item 1\n",
       "\\item 2\n",
       "\\item 5\n",
       "\\item 5\n",
       "\\end{enumerate*}\n"
      ],
      "text/markdown": [
       "1. 4\n",
       "2. 2\n",
       "3. 1\n",
       "4. 2\n",
       "5. 5\n",
       "6. 5\n",
       "\n",
       "\n"
      ],
      "text/plain": [
       "[1] 4 2 1 2 5 5"
      ]
     },
     "metadata": {},
     "output_type": "display_data"
    },
    {
     "data": {
      "text/html": [
       "<style>\n",
       ".list-inline {list-style: none; margin:0; padding: 0}\n",
       ".list-inline>li {display: inline-block}\n",
       ".list-inline>li:not(:last-child)::after {content: \"\\00b7\"; padding: 0 .5ex}\n",
       "</style>\n",
       "<ol class=list-inline><li>4</li><li>2</li><li>1</li><li>3</li><li>5</li><li>6</li></ol>\n"
      ],
      "text/latex": [
       "\\begin{enumerate*}\n",
       "\\item 4\n",
       "\\item 2\n",
       "\\item 1\n",
       "\\item 3\n",
       "\\item 5\n",
       "\\item 6\n",
       "\\end{enumerate*}\n"
      ],
      "text/markdown": [
       "1. 4\n",
       "2. 2\n",
       "3. 1\n",
       "4. 3\n",
       "5. 5\n",
       "6. 6\n",
       "\n",
       "\n"
      ],
      "text/plain": [
       "[1] 4 2 1 3 5 6"
      ]
     },
     "metadata": {},
     "output_type": "display_data"
    }
   ],
   "source": [
    "gpas = c(3.9, 3.8, 2.7, 3.8, 4.0, 4.0)\n",
    "dense_rank(gpas)\n",
    "min_rank(gpas)\n",
    "row_number(gpas)"
   ]
  },
  {
   "cell_type": "markdown",
   "metadata": {},
   "source": [
    "Note the differences in behavior: \n",
    "- The rankings from `dense_rank()` never have gaps.\n",
    "- The rankings from `min_rank()` skips over 3rd place (because we have two entries tied for 2nd.)\n",
    "- The rankings from `row_number()` break ties arbitrarily, so the first 4.0 GPA gets ranked 5th, and the second 4.0 GPA gets ranked 6th."
   ]
  },
  {
   "cell_type": "markdown",
   "metadata": {},
   "source": [
    "By default, the ranking functions rank lowest first. If we want to reverse that, and assign rank 1 to the highest entry, we can use the `desc()` function:"
   ]
  },
  {
   "cell_type": "code",
   "execution_count": 56,
   "metadata": {},
   "outputs": [
    {
     "data": {
      "text/html": [
       "<style>\n",
       ".list-inline {list-style: none; margin:0; padding: 0}\n",
       ".list-inline>li {display: inline-block}\n",
       ".list-inline>li:not(:last-child)::after {content: \"\\00b7\"; padding: 0 .5ex}\n",
       "</style>\n",
       "<ol class=list-inline><li>2</li><li>3</li><li>4</li><li>3</li><li>1</li><li>1</li></ol>\n"
      ],
      "text/latex": [
       "\\begin{enumerate*}\n",
       "\\item 2\n",
       "\\item 3\n",
       "\\item 4\n",
       "\\item 3\n",
       "\\item 1\n",
       "\\item 1\n",
       "\\end{enumerate*}\n"
      ],
      "text/markdown": [
       "1. 2\n",
       "2. 3\n",
       "3. 4\n",
       "4. 3\n",
       "5. 1\n",
       "6. 1\n",
       "\n",
       "\n"
      ],
      "text/plain": [
       "[1] 2 3 4 3 1 1"
      ]
     },
     "metadata": {},
     "output_type": "display_data"
    },
    {
     "data": {
      "text/html": [
       "<style>\n",
       ".list-inline {list-style: none; margin:0; padding: 0}\n",
       ".list-inline>li {display: inline-block}\n",
       ".list-inline>li:not(:last-child)::after {content: \"\\00b7\"; padding: 0 .5ex}\n",
       "</style>\n",
       "<ol class=list-inline><li>3</li><li>4</li><li>6</li><li>4</li><li>1</li><li>1</li></ol>\n"
      ],
      "text/latex": [
       "\\begin{enumerate*}\n",
       "\\item 3\n",
       "\\item 4\n",
       "\\item 6\n",
       "\\item 4\n",
       "\\item 1\n",
       "\\item 1\n",
       "\\end{enumerate*}\n"
      ],
      "text/markdown": [
       "1. 3\n",
       "2. 4\n",
       "3. 6\n",
       "4. 4\n",
       "5. 1\n",
       "6. 1\n",
       "\n",
       "\n"
      ],
      "text/plain": [
       "[1] 3 4 6 4 1 1"
      ]
     },
     "metadata": {},
     "output_type": "display_data"
    },
    {
     "data": {
      "text/html": [
       "<style>\n",
       ".list-inline {list-style: none; margin:0; padding: 0}\n",
       ".list-inline>li {display: inline-block}\n",
       ".list-inline>li:not(:last-child)::after {content: \"\\00b7\"; padding: 0 .5ex}\n",
       "</style>\n",
       "<ol class=list-inline><li>3</li><li>4</li><li>6</li><li>5</li><li>1</li><li>2</li></ol>\n"
      ],
      "text/latex": [
       "\\begin{enumerate*}\n",
       "\\item 3\n",
       "\\item 4\n",
       "\\item 6\n",
       "\\item 5\n",
       "\\item 1\n",
       "\\item 2\n",
       "\\end{enumerate*}\n"
      ],
      "text/markdown": [
       "1. 3\n",
       "2. 4\n",
       "3. 6\n",
       "4. 5\n",
       "5. 1\n",
       "6. 2\n",
       "\n",
       "\n"
      ],
      "text/plain": [
       "[1] 3 4 6 5 1 2"
      ]
     },
     "metadata": {},
     "output_type": "display_data"
    }
   ],
   "source": [
    "dense_rank(desc(gpas))\n",
    "min_rank(desc(gpas))\n",
    "row_number(desc(gpas))"
   ]
  },
  {
   "cell_type": "code",
   "execution_count": 49,
   "metadata": {},
   "outputs": [
    {
     "data": {
      "text/html": [
       "<style>\n",
       ".list-inline {list-style: none; margin:0; padding: 0}\n",
       ".list-inline>li {display: inline-block}\n",
       ".list-inline>li:not(:last-child)::after {content: \"\\00b7\"; padding: 0 .5ex}\n",
       "</style>\n",
       "<ol class=list-inline><li>14</li><li>14</li><li>12</li><li>12</li><li>21</li><li>17</li><li>26</li><li>14</li><li>11</li><li>&lt;NA&gt;</li></ol>\n"
      ],
      "text/latex": [
       "\\begin{enumerate*}\n",
       "\\item 14\n",
       "\\item 14\n",
       "\\item 12\n",
       "\\item 12\n",
       "\\item 21\n",
       "\\item 17\n",
       "\\item 26\n",
       "\\item 14\n",
       "\\item 11\n",
       "\\item <NA>\n",
       "\\end{enumerate*}\n"
      ],
      "text/markdown": [
       "1. 14\n",
       "2. 14\n",
       "3. 12\n",
       "4. 12\n",
       "5. 21\n",
       "6. 17\n",
       "7. 26\n",
       "8. 14\n",
       "9. 11\n",
       "10. &lt;NA&gt;\n",
       "\n",
       "\n"
      ],
      "text/plain": [
       " [1] 14 14 12 12 21 17 26 14 11 NA"
      ]
     },
     "metadata": {},
     "output_type": "display_data"
    },
    {
     "data": {
      "text/html": [
       "<style>\n",
       ".list-inline {list-style: none; margin:0; padding: 0}\n",
       ".list-inline>li {display: inline-block}\n",
       ".list-inline>li:not(:last-child)::after {content: \"\\00b7\"; padding: 0 .5ex}\n",
       "</style>\n",
       "<ol class=list-inline><li>4</li><li>4</li><li>2</li><li>2</li><li>8</li><li>7</li><li>9</li><li>4</li><li>1</li><li>&lt;NA&gt;</li></ol>\n"
      ],
      "text/latex": [
       "\\begin{enumerate*}\n",
       "\\item 4\n",
       "\\item 4\n",
       "\\item 2\n",
       "\\item 2\n",
       "\\item 8\n",
       "\\item 7\n",
       "\\item 9\n",
       "\\item 4\n",
       "\\item 1\n",
       "\\item <NA>\n",
       "\\end{enumerate*}\n"
      ],
      "text/markdown": [
       "1. 4\n",
       "2. 4\n",
       "3. 2\n",
       "4. 2\n",
       "5. 8\n",
       "6. 7\n",
       "7. 9\n",
       "8. 4\n",
       "9. 1\n",
       "10. &lt;NA&gt;\n",
       "\n",
       "\n"
      ],
      "text/plain": [
       " [1]  4  4  2  2  8  7  9  4  1 NA"
      ]
     },
     "metadata": {},
     "output_type": "display_data"
    },
    {
     "data": {
      "text/html": [
       "<style>\n",
       ".list-inline {list-style: none; margin:0; padding: 0}\n",
       ".list-inline>li {display: inline-block}\n",
       ".list-inline>li:not(:last-child)::after {content: \"\\00b7\"; padding: 0 .5ex}\n",
       "</style>\n",
       "<ol class=list-inline><li>4</li><li>4</li><li>7</li><li>7</li><li>2</li><li>3</li><li>1</li><li>4</li><li>9</li><li>&lt;NA&gt;</li></ol>\n"
      ],
      "text/latex": [
       "\\begin{enumerate*}\n",
       "\\item 4\n",
       "\\item 4\n",
       "\\item 7\n",
       "\\item 7\n",
       "\\item 2\n",
       "\\item 3\n",
       "\\item 1\n",
       "\\item 4\n",
       "\\item 9\n",
       "\\item <NA>\n",
       "\\end{enumerate*}\n"
      ],
      "text/markdown": [
       "1. 4\n",
       "2. 4\n",
       "3. 7\n",
       "4. 7\n",
       "5. 2\n",
       "6. 3\n",
       "7. 1\n",
       "8. 4\n",
       "9. 9\n",
       "10. &lt;NA&gt;\n",
       "\n",
       "\n"
      ],
      "text/plain": [
       " [1]  4  4  7  7  2  3  1  4  9 NA"
      ]
     },
     "metadata": {},
     "output_type": "display_data"
    }
   ],
   "source": [
    "(x <- sample(c(11, 12, 12, 14, 14, 14, 17, 21, 26, NA))) # returns a random permutation of the input\n",
    "min_rank(x) # ranks with smallest value as rank 1\n",
    "min_rank(desc(x)) # ranks with largest value as rank 1"
   ]
  },
  {
   "cell_type": "markdown",
   "metadata": {},
   "source": [
    "## More about Summary Function\n",
    "\n",
    "`summarize()` can be used to summarize entire data frames by collapsing them into single number summaries.\n"
   ]
  },
  {
   "cell_type": "code",
   "execution_count": 57,
   "metadata": {},
   "outputs": [
    {
     "data": {
      "text/html": [
       "<table>\n",
       "<caption>A tibble: 1 × 1</caption>\n",
       "<thead>\n",
       "\t<tr><th scope=col>delay</th></tr>\n",
       "\t<tr><th scope=col>&lt;dbl&gt;</th></tr>\n",
       "</thead>\n",
       "<tbody>\n",
       "\t<tr><td>12.63907</td></tr>\n",
       "</tbody>\n",
       "</table>\n"
      ],
      "text/latex": [
       "A tibble: 1 × 1\n",
       "\\begin{tabular}{l}\n",
       " delay\\\\\n",
       " <dbl>\\\\\n",
       "\\hline\n",
       "\t 12.63907\\\\\n",
       "\\end{tabular}\n"
      ],
      "text/markdown": [
       "\n",
       "A tibble: 1 × 1\n",
       "\n",
       "| delay &lt;dbl&gt; |\n",
       "|---|\n",
       "| 12.63907 |\n",
       "\n"
      ],
      "text/plain": [
       "  delay   \n",
       "1 12.63907"
      ]
     },
     "metadata": {},
     "output_type": "display_data"
    }
   ],
   "source": [
    "summarize(flights, delay = mean(dep_delay, na.rm = TRUE))"
   ]
  },
  {
   "cell_type": "code",
   "execution_count": 58,
   "metadata": {},
   "outputs": [
    {
     "name": "stderr",
     "output_type": "stream",
     "text": [
      "`summarise()` ungrouping output (override with `.groups` argument)\n",
      "\n"
     ]
    },
    {
     "data": {
      "text/html": [
       "<table>\n",
       "<caption>A tibble: 12 × 2</caption>\n",
       "<thead>\n",
       "\t<tr><th scope=col>month</th><th scope=col>delay</th></tr>\n",
       "\t<tr><th scope=col>&lt;int&gt;</th><th scope=col>&lt;dbl&gt;</th></tr>\n",
       "</thead>\n",
       "<tbody>\n",
       "\t<tr><td> 1</td><td>10.036665</td></tr>\n",
       "\t<tr><td> 2</td><td>10.816843</td></tr>\n",
       "\t<tr><td> 3</td><td>13.227076</td></tr>\n",
       "\t<tr><td> 4</td><td>13.938038</td></tr>\n",
       "\t<tr><td> 5</td><td>12.986859</td></tr>\n",
       "\t<tr><td> 6</td><td>20.846332</td></tr>\n",
       "\t<tr><td> 7</td><td>21.727787</td></tr>\n",
       "\t<tr><td> 8</td><td>12.611040</td></tr>\n",
       "\t<tr><td> 9</td><td> 6.722476</td></tr>\n",
       "\t<tr><td>10</td><td> 6.243988</td></tr>\n",
       "\t<tr><td>11</td><td> 5.435362</td></tr>\n",
       "\t<tr><td>12</td><td>16.576688</td></tr>\n",
       "</tbody>\n",
       "</table>\n"
      ],
      "text/latex": [
       "A tibble: 12 × 2\n",
       "\\begin{tabular}{ll}\n",
       " month & delay\\\\\n",
       " <int> & <dbl>\\\\\n",
       "\\hline\n",
       "\t  1 & 10.036665\\\\\n",
       "\t  2 & 10.816843\\\\\n",
       "\t  3 & 13.227076\\\\\n",
       "\t  4 & 13.938038\\\\\n",
       "\t  5 & 12.986859\\\\\n",
       "\t  6 & 20.846332\\\\\n",
       "\t  7 & 21.727787\\\\\n",
       "\t  8 & 12.611040\\\\\n",
       "\t  9 &  6.722476\\\\\n",
       "\t 10 &  6.243988\\\\\n",
       "\t 11 &  5.435362\\\\\n",
       "\t 12 & 16.576688\\\\\n",
       "\\end{tabular}\n"
      ],
      "text/markdown": [
       "\n",
       "A tibble: 12 × 2\n",
       "\n",
       "| month &lt;int&gt; | delay &lt;dbl&gt; |\n",
       "|---|---|\n",
       "|  1 | 10.036665 |\n",
       "|  2 | 10.816843 |\n",
       "|  3 | 13.227076 |\n",
       "|  4 | 13.938038 |\n",
       "|  5 | 12.986859 |\n",
       "|  6 | 20.846332 |\n",
       "|  7 | 21.727787 |\n",
       "|  8 | 12.611040 |\n",
       "|  9 |  6.722476 |\n",
       "| 10 |  6.243988 |\n",
       "| 11 |  5.435362 |\n",
       "| 12 | 16.576688 |\n",
       "\n"
      ],
      "text/plain": [
       "   month delay    \n",
       "1   1    10.036665\n",
       "2   2    10.816843\n",
       "3   3    13.227076\n",
       "4   4    13.938038\n",
       "5   5    12.986859\n",
       "6   6    20.846332\n",
       "7   7    21.727787\n",
       "8   8    12.611040\n",
       "9   9     6.722476\n",
       "10 10     6.243988\n",
       "11 11     5.435362\n",
       "12 12    16.576688"
      ]
     },
     "metadata": {},
     "output_type": "display_data"
    }
   ],
   "source": [
    "by_month <- group_by(flights, month)\n",
    "(monthly_delays <- summarize(by_month, delay = mean(dep_delay, na.rm = TRUE)))"
   ]
  },
  {
   "cell_type": "markdown",
   "metadata": {},
   "source": [
    "Many summarization functions are available:\n",
    "\n",
    "* Center: `mean(), median()`\n",
    "* Spread: `sd(), IQR(), mad()`\n",
    "* Range: `min(), max(), quantile()`\n",
    "* Position: `first(), last(), nth()`\n",
    "* Count: `n(), n_distinct()`\n",
    "* Logical: `any(), all()`"
   ]
  },
  {
   "cell_type": "markdown",
   "metadata": {},
   "source": [
    "Now, let us try to use some of the summarize functions to create a new table with the variables airports, total flights, mean distance, and standard deviation of the distance.  We want to sort the mean distance in descending order.   Let's try to guess which airport has the largest mean distance before we even proceed! "
   ]
  },
  {
   "cell_type": "code",
   "execution_count": 61,
   "metadata": {},
   "outputs": [
    {
     "name": "stderr",
     "output_type": "stream",
     "text": [
      "`summarise()` ungrouping output (override with `.groups` argument)\n",
      "\n"
     ]
    },
    {
     "name": "stdout",
     "output_type": "stream",
     "text": [
      "\u001b[38;5;246m# A tibble: 105 x 4\u001b[39m\n",
      "   dest  count    sd mean_distance\n",
      "   \u001b[3m\u001b[38;5;246m<chr>\u001b[39m\u001b[23m \u001b[3m\u001b[38;5;246m<int>\u001b[39m\u001b[23m \u001b[3m\u001b[38;5;246m<dbl>\u001b[39m\u001b[23m         \u001b[3m\u001b[38;5;246m<dbl>\u001b[39m\u001b[23m\n",
      "\u001b[38;5;250m 1\u001b[39m HNL     707 10.0          \u001b[4m4\u001b[24m973.\n",
      "\u001b[38;5;250m 2\u001b[39m ANC       8  0            \u001b[4m3\u001b[24m370 \n",
      "\u001b[38;5;250m 3\u001b[39m SFO   \u001b[4m1\u001b[24m\u001b[4m3\u001b[24m331 10.2          \u001b[4m2\u001b[24m578.\n",
      "\u001b[38;5;250m 4\u001b[39m OAK     312  0            \u001b[4m2\u001b[24m576 \n",
      "\u001b[38;5;250m 5\u001b[39m SJC     329  0            \u001b[4m2\u001b[24m569 \n",
      "\u001b[38;5;250m 6\u001b[39m SMF     284  0            \u001b[4m2\u001b[24m521 \n",
      "\u001b[38;5;250m 7\u001b[39m LAX   \u001b[4m1\u001b[24m\u001b[4m6\u001b[24m174  9.66         \u001b[4m2\u001b[24m469.\n",
      "\u001b[38;5;250m 8\u001b[39m BUR     371  0            \u001b[4m2\u001b[24m465 \n",
      "\u001b[38;5;250m 9\u001b[39m LGB     668  0            \u001b[4m2\u001b[24m465 \n",
      "\u001b[38;5;250m10\u001b[39m PDX    \u001b[4m1\u001b[24m354  9.88         \u001b[4m2\u001b[24m446.\n",
      "\u001b[38;5;246m# … with 95 more rows\u001b[39m\n"
     ]
    }
   ],
   "source": [
    "# airports, total flights, mean distance, and standard deviation of distance\n",
    "# sorted in descending order of mean distance\n",
    "group_by(flights, dest) %>%\n",
    "    summarize(count = n(), sd = sd(distance), mean_distance = mean(distance)) %>%\n",
    "    arrange(desc(mean_distance)) %>% print()"
   ]
  },
  {
   "cell_type": "markdown",
   "metadata": {},
   "source": [
    "## Using Pipe with ggplot\n",
    "\n",
    "You can even plot the data by adding a `ggplot` command at the end after manipulating your data.\n",
    "\n",
    "Let's try to create a table for each month with the mean delay time.  Then plot a barchart for each month.  "
   ]
  },
  {
   "cell_type": "code",
   "execution_count": 8,
   "metadata": {},
   "outputs": [
    {
     "name": "stderr",
     "output_type": "stream",
     "text": [
      "`summarise()` ungrouping output (override with `.groups` argument)\n",
      "\n"
     ]
    },
    {
     "data": {
      "image/png": "[encoded data removed]",
      "text/plain": [
       "plot without title"
      ]
     },
     "metadata": {
      "image/png": {
       "height": 420,
       "width": 420
      }
     },
     "output_type": "display_data"
    }
   ],
   "source": [
    "group_by(flights, month) %>%\n",
    "    summarize(delay = mean(dep_delay, na.rm = TRUE)) %>%\n",
    "    ggplot() +\n",
    "        geom_bar(mapping = aes(x=factor(month), y=delay), stat = \"identity\") +\n",
    "        labs(x = \"month\", y = \"average delay (in minutes)\")"
   ]
  },
  {
   "cell_type": "markdown",
   "metadata": {},
   "source": [
    "How about a bar chart of mean arrival delay by destination airport for the top 10 airports that have the highest traffic volume?  We will use `group_by`, `summarize`, `arrange`, `slice`, and `ggplot`."
   ]
  },
  {
   "cell_type": "code",
   "execution_count": 62,
   "metadata": {},
   "outputs": [
    {
     "name": "stderr",
     "output_type": "stream",
     "text": [
      "`summarise()` ungrouping output (override with `.groups` argument)\n",
      "\n"
     ]
    },
    {
     "data": {
      "image/png": "[encoded data removed]",
      "text/plain": [
       "plot without title"
      ]
     },
     "metadata": {
      "image/png": {
       "height": 420,
       "width": 420
      }
     },
     "output_type": "display_data"
    }
   ],
   "source": [
    "group_by(flights, dest) %>%\n",
    "    summarize(\n",
    "                mean_delay = mean(arr_delay, na.rm=TRUE),\n",
    "                count = n()\n",
    "            ) %>%\n",
    "    arrange(desc(count)) %>%\n",
    "    slice(1:10) %>%\n",
    "    ggplot() +\n",
    "        geom_bar(mapping = aes(x = dest, y = mean_delay), stat = \"identity\") +\n",
    "        xlab(\"destination airport\") +\n",
    "        ylab(\"average arrival delay in minutes\")"
   ]
  },
  {
   "cell_type": "markdown",
   "metadata": {},
   "source": [
    "Now, let us try to get a scatter plot of airport distance vs average arrival delay after grouping by destination airport? We will also superimpose the scatter plot with a smoothed plot"
   ]
  },
  {
   "cell_type": "code",
   "execution_count": 11,
   "metadata": {},
   "outputs": [
    {
     "name": "stderr",
     "output_type": "stream",
     "text": [
      "`summarise()` ungrouping output (override with `.groups` argument)\n",
      "\n",
      "`geom_smooth()` using method = 'loess' and formula 'y ~ x'\n",
      "\n",
      "Warning message:\n",
      "“Removed 1 rows containing non-finite values (stat_smooth).”\n",
      "Warning message:\n",
      "“Removed 1 rows containing missing values (geom_point).”\n"
     ]
    },
    {
     "data": {
      "image/png": "[encoded data removed]",
      "text/plain": [
       "plot without title"
      ]
     },
     "metadata": {
      "image/png": {
       "height": 420,
       "width": 420
      }
     },
     "output_type": "display_data"
    }
   ],
   "source": [
    "group_by(flights, dest) %>%\n",
    "    summarize(\n",
    "                mean_distance = mean(distance, na.rm=TRUE),\n",
    "                mean_delay = mean(arr_delay, na.rm=TRUE)\n",
    "            ) %>%\n",
    "    ggplot(mapping = aes(x = mean_distance, y = mean_delay)) +\n",
    "        geom_point() +\n",
    "        geom_smooth() +\n",
    "        xlab(\"distance (in miles)\") +\n",
    "        ylab(\"average arrival delay (in minutes)\")"
   ]
  },
  {
   "cell_type": "markdown",
   "metadata": {},
   "source": [
    "## Group Mutate/Filter"
   ]
  },
  {
   "cell_type": "code",
   "execution_count": 14,
   "metadata": {},
   "outputs": [],
   "source": [
    "flights_sml <- select(flights,year:day,ends_with(\"delay\"),distance, air_time)"
   ]
  },
  {
   "cell_type": "code",
   "execution_count": 15,
   "metadata": {},
   "outputs": [
    {
     "name": "stdout",
     "output_type": "stream",
     "text": [
      "\u001b[38;5;246m# A tibble: 336,776 x 7\u001b[39m\n",
      "    year month   day dep_delay arr_delay distance air_time\n",
      "   \u001b[3m\u001b[38;5;246m<int>\u001b[39m\u001b[23m \u001b[3m\u001b[38;5;246m<int>\u001b[39m\u001b[23m \u001b[3m\u001b[38;5;246m<int>\u001b[39m\u001b[23m     \u001b[3m\u001b[38;5;246m<dbl>\u001b[39m\u001b[23m     \u001b[3m\u001b[38;5;246m<dbl>\u001b[39m\u001b[23m    \u001b[3m\u001b[38;5;246m<dbl>\u001b[39m\u001b[23m    \u001b[3m\u001b[38;5;246m<dbl>\u001b[39m\u001b[23m\n",
      "\u001b[38;5;250m 1\u001b[39m  \u001b[4m2\u001b[24m013     1     1         2        11     \u001b[4m1\u001b[24m400      227\n",
      "\u001b[38;5;250m 2\u001b[39m  \u001b[4m2\u001b[24m013     1     1         4        20     \u001b[4m1\u001b[24m416      227\n",
      "\u001b[38;5;250m 3\u001b[39m  \u001b[4m2\u001b[24m013     1     1         2        33     \u001b[4m1\u001b[24m089      160\n",
      "\u001b[38;5;250m 4\u001b[39m  \u001b[4m2\u001b[24m013     1     1        -\u001b[31m1\u001b[39m       -\u001b[31m18\u001b[39m     \u001b[4m1\u001b[24m576      183\n",
      "\u001b[38;5;250m 5\u001b[39m  \u001b[4m2\u001b[24m013     1     1        -\u001b[31m6\u001b[39m       -\u001b[31m25\u001b[39m      762      116\n",
      "\u001b[38;5;250m 6\u001b[39m  \u001b[4m2\u001b[24m013     1     1        -\u001b[31m4\u001b[39m        12      719      150\n",
      "\u001b[38;5;250m 7\u001b[39m  \u001b[4m2\u001b[24m013     1     1        -\u001b[31m5\u001b[39m        19     \u001b[4m1\u001b[24m065      158\n",
      "\u001b[38;5;250m 8\u001b[39m  \u001b[4m2\u001b[24m013     1     1        -\u001b[31m3\u001b[39m       -\u001b[31m14\u001b[39m      229       53\n",
      "\u001b[38;5;250m 9\u001b[39m  \u001b[4m2\u001b[24m013     1     1        -\u001b[31m3\u001b[39m        -\u001b[31m8\u001b[39m      944      140\n",
      "\u001b[38;5;250m10\u001b[39m  \u001b[4m2\u001b[24m013     1     1        -\u001b[31m2\u001b[39m         8      733      138\n",
      "\u001b[38;5;246m# … with 336,766 more rows\u001b[39m\n"
     ]
    }
   ],
   "source": [
    "print(flights_sml)"
   ]
  },
  {
   "cell_type": "markdown",
   "metadata": {},
   "source": [
    "# Find the worst flight with the worst delay for each day"
   ]
  },
  {
   "cell_type": "code",
   "execution_count": 63,
   "metadata": {},
   "outputs": [
    {
     "name": "stdout",
     "output_type": "stream",
     "text": [
      "\u001b[38;5;246m# A tibble: 366 x 7\u001b[39m\n",
      "\u001b[38;5;246m# Groups:   year, month, day [365]\u001b[39m\n",
      "    year month   day dep_delay arr_delay distance air_time\n",
      "   \u001b[3m\u001b[38;5;246m<int>\u001b[39m\u001b[23m \u001b[3m\u001b[38;5;246m<int>\u001b[39m\u001b[23m \u001b[3m\u001b[38;5;246m<int>\u001b[39m\u001b[23m     \u001b[3m\u001b[38;5;246m<dbl>\u001b[39m\u001b[23m     \u001b[3m\u001b[38;5;246m<dbl>\u001b[39m\u001b[23m    \u001b[3m\u001b[38;5;246m<dbl>\u001b[39m\u001b[23m    \u001b[3m\u001b[38;5;246m<dbl>\u001b[39m\u001b[23m\n",
      "\u001b[38;5;250m 1\u001b[39m  \u001b[4m2\u001b[24m013     1     1       853       851      184       41\n",
      "\u001b[38;5;250m 2\u001b[39m  \u001b[4m2\u001b[24m013     1     2       337       368     \u001b[4m2\u001b[24m586      346\n",
      "\u001b[38;5;250m 3\u001b[39m  \u001b[4m2\u001b[24m013     1     3       291       285      765      125\n",
      "\u001b[38;5;250m 4\u001b[39m  \u001b[4m2\u001b[24m013     1     4       288       276      708      109\n",
      "\u001b[38;5;250m 5\u001b[39m  \u001b[4m2\u001b[24m013     1     5       327       308     \u001b[4m1\u001b[24m010      158\n",
      "\u001b[38;5;250m 6\u001b[39m  \u001b[4m2\u001b[24m013     1     6       163       175     \u001b[4m1\u001b[24m167      200\n",
      "\u001b[38;5;250m 7\u001b[39m  \u001b[4m2\u001b[24m013     1     7       366       368     \u001b[4m1\u001b[24m076      153\n",
      "\u001b[38;5;250m 8\u001b[39m  \u001b[4m2\u001b[24m013     1     8       188       184      229       43\n",
      "\u001b[38;5;250m 9\u001b[39m  \u001b[4m2\u001b[24m013     1     9      \u001b[4m1\u001b[24m301      \u001b[4m1\u001b[24m272     \u001b[4m4\u001b[24m983      640\n",
      "\u001b[38;5;250m10\u001b[39m  \u001b[4m2\u001b[24m013     1    10      \u001b[4m1\u001b[24m126      \u001b[4m1\u001b[24m109      719      111\n",
      "\u001b[38;5;246m# … with 356 more rows\u001b[39m\n"
     ]
    }
   ],
   "source": [
    "flights_sml %>% group_by(year,month,day) %>% filter(rank(desc(arr_delay))<2) %>% print()"
   ]
  },
  {
   "cell_type": "markdown",
   "metadata": {},
   "source": [
    "# Summary of Chapter 5\n",
    "Before we move on to the next part of the book, I want to spend some time summarizing and tying together the main ideas from the past few lectures. In chapter 5 we learned about five types of operations for altering data tibbles:\n",
    "* `filter()`: drop rows from a data table based on certain logical conditions.\n",
    "* `select()`: keep *columns* in a data table by name, range, or logical conditions.\n",
    "* `arrange()`: sort / reorder the rows of a data table.\n",
    "* `mutate()`: generate new columns in a data table by applying functions to the existing ones.\n",
    "* `group_by()` / `summarize()`: group rows together based on one or more variables, and compute summary statistics within each group."
   ]
  },
  {
   "cell_type": "markdown",
   "metadata": {},
   "source": [
    "#### `filter()` vs `select()`\n",
    "Some students were mixing up the use of `filter()` and `select()`.\n",
    "\n",
    "`filter()` selects the rows based on some specific criterion\n",
    "\n",
    "`select()` selects the columns of your data set"
   ]
  },
  {
   "cell_type": "markdown",
   "metadata": {},
   "source": [
    "#### Common Error `` and ' ' and \"  \""
   ]
  },
  {
   "cell_type": "code",
   "execution_count": 25,
   "metadata": {},
   "outputs": [
    {
     "name": "stdout",
     "output_type": "stream",
     "text": [
      "\u001b[38;5;246m# A tibble: 58,665 x 19\u001b[39m\n",
      "    year month   day dep_time sched_dep_time dep_delay arr_time sched_arr_time\n",
      "   \u001b[3m\u001b[38;5;246m<int>\u001b[39m\u001b[23m \u001b[3m\u001b[38;5;246m<int>\u001b[39m\u001b[23m \u001b[3m\u001b[38;5;246m<int>\u001b[39m\u001b[23m    \u001b[3m\u001b[38;5;246m<int>\u001b[39m\u001b[23m          \u001b[3m\u001b[38;5;246m<int>\u001b[39m\u001b[23m     \u001b[3m\u001b[38;5;246m<dbl>\u001b[39m\u001b[23m    \u001b[3m\u001b[38;5;246m<int>\u001b[39m\u001b[23m          \u001b[3m\u001b[38;5;246m<int>\u001b[39m\u001b[23m\n",
      "\u001b[38;5;250m 1\u001b[39m  \u001b[4m2\u001b[24m013     1     1      517            515         2      830            819\n",
      "\u001b[38;5;250m 2\u001b[39m  \u001b[4m2\u001b[24m013     1     1      533            529         4      850            830\n",
      "\u001b[38;5;250m 3\u001b[39m  \u001b[4m2\u001b[24m013     1     1      554            558        -\u001b[31m4\u001b[39m      740            728\n",
      "\u001b[38;5;250m 4\u001b[39m  \u001b[4m2\u001b[24m013     1     1      558            600        -\u001b[31m2\u001b[39m      924            917\n",
      "\u001b[38;5;250m 5\u001b[39m  \u001b[4m2\u001b[24m013     1     1      558            600        -\u001b[31m2\u001b[39m      923            937\n",
      "\u001b[38;5;250m 6\u001b[39m  \u001b[4m2\u001b[24m013     1     1      559            600        -\u001b[31m1\u001b[39m      854            902\n",
      "\u001b[38;5;250m 7\u001b[39m  \u001b[4m2\u001b[24m013     1     1      607            607         0      858            915\n",
      "\u001b[38;5;250m 8\u001b[39m  \u001b[4m2\u001b[24m013     1     1      611            600        11      945            931\n",
      "\u001b[38;5;250m 9\u001b[39m  \u001b[4m2\u001b[24m013     1     1      623            627        -\u001b[31m4\u001b[39m      933            932\n",
      "\u001b[38;5;250m10\u001b[39m  \u001b[4m2\u001b[24m013     1     1      628            630        -\u001b[31m2\u001b[39m     \u001b[4m1\u001b[24m016            947\n",
      "\u001b[38;5;246m# … with 58,655 more rows, and 11 more variables: arr_delay \u001b[3m\u001b[38;5;246m<dbl>\u001b[38;5;246m\u001b[23m,\u001b[39m\n",
      "\u001b[38;5;246m#   carrier \u001b[3m\u001b[38;5;246m<chr>\u001b[38;5;246m\u001b[23m, flight \u001b[3m\u001b[38;5;246m<int>\u001b[38;5;246m\u001b[23m, tailnum \u001b[3m\u001b[38;5;246m<chr>\u001b[38;5;246m\u001b[23m, origin \u001b[3m\u001b[38;5;246m<chr>\u001b[38;5;246m\u001b[23m, dest \u001b[3m\u001b[38;5;246m<chr>\u001b[38;5;246m\u001b[23m,\u001b[39m\n",
      "\u001b[38;5;246m#   air_time \u001b[3m\u001b[38;5;246m<dbl>\u001b[38;5;246m\u001b[23m, distance \u001b[3m\u001b[38;5;246m<dbl>\u001b[38;5;246m\u001b[23m, hour \u001b[3m\u001b[38;5;246m<dbl>\u001b[38;5;246m\u001b[23m, minute \u001b[3m\u001b[38;5;246m<dbl>\u001b[38;5;246m\u001b[23m, time_hour \u001b[3m\u001b[38;5;246m<dttm>\u001b[38;5;246m\u001b[23m\u001b[39m\n"
     ]
    }
   ],
   "source": [
    "# filter(flights, carrier == `UA`)  %>% print # produces an error: compares the column carrier to the (nonexistent) column UA\n",
    "\n",
    "filter(flights, carrier == 'UA')  %>% print"
   ]
  },
  {
   "cell_type": "markdown",
   "metadata": {},
   "source": [
    "#### `=` versus `==`\n",
    "Remember that `=` and `==` mean different things. The former is used for assignment and to pass keyword parameters to functions. The latter is used to test for equality and returns either `TRUE` or `FALSE`."
   ]
  },
  {
   "cell_type": "code",
   "execution_count": 64,
   "metadata": {},
   "outputs": [
    {
     "name": "stdout",
     "output_type": "stream",
     "text": [
      "\u001b[38;5;246m# A tibble: 58,665 x 19\u001b[39m\n",
      "    year month   day dep_time sched_dep_time dep_delay arr_time sched_arr_time\n",
      "   \u001b[3m\u001b[38;5;246m<int>\u001b[39m\u001b[23m \u001b[3m\u001b[38;5;246m<int>\u001b[39m\u001b[23m \u001b[3m\u001b[38;5;246m<int>\u001b[39m\u001b[23m    \u001b[3m\u001b[38;5;246m<int>\u001b[39m\u001b[23m          \u001b[3m\u001b[38;5;246m<int>\u001b[39m\u001b[23m     \u001b[3m\u001b[38;5;246m<dbl>\u001b[39m\u001b[23m    \u001b[3m\u001b[38;5;246m<int>\u001b[39m\u001b[23m          \u001b[3m\u001b[38;5;246m<int>\u001b[39m\u001b[23m\n",
      "\u001b[38;5;250m 1\u001b[39m  \u001b[4m2\u001b[24m013     1     1      517            515         2      830            819\n",
      "\u001b[38;5;250m 2\u001b[39m  \u001b[4m2\u001b[24m013     1     1      533            529         4      850            830\n",
      "\u001b[38;5;250m 3\u001b[39m  \u001b[4m2\u001b[24m013     1     1      554            558        -\u001b[31m4\u001b[39m      740            728\n",
      "\u001b[38;5;250m 4\u001b[39m  \u001b[4m2\u001b[24m013     1     1      558            600        -\u001b[31m2\u001b[39m      924            917\n",
      "\u001b[38;5;250m 5\u001b[39m  \u001b[4m2\u001b[24m013     1     1      558            600        -\u001b[31m2\u001b[39m      923            937\n",
      "\u001b[38;5;250m 6\u001b[39m  \u001b[4m2\u001b[24m013     1     1      559            600        -\u001b[31m1\u001b[39m      854            902\n",
      "\u001b[38;5;250m 7\u001b[39m  \u001b[4m2\u001b[24m013     1     1      607            607         0      858            915\n",
      "\u001b[38;5;250m 8\u001b[39m  \u001b[4m2\u001b[24m013     1     1      611            600        11      945            931\n",
      "\u001b[38;5;250m 9\u001b[39m  \u001b[4m2\u001b[24m013     1     1      623            627        -\u001b[31m4\u001b[39m      933            932\n",
      "\u001b[38;5;250m10\u001b[39m  \u001b[4m2\u001b[24m013     1     1      628            630        -\u001b[31m2\u001b[39m     \u001b[4m1\u001b[24m016            947\n",
      "\u001b[38;5;246m# … with 58,655 more rows, and 11 more variables: arr_delay \u001b[3m\u001b[38;5;246m<dbl>\u001b[38;5;246m\u001b[23m,\u001b[39m\n",
      "\u001b[38;5;246m#   carrier \u001b[3m\u001b[38;5;246m<chr>\u001b[38;5;246m\u001b[23m, flight \u001b[3m\u001b[38;5;246m<int>\u001b[38;5;246m\u001b[23m, tailnum \u001b[3m\u001b[38;5;246m<chr>\u001b[38;5;246m\u001b[23m, origin \u001b[3m\u001b[38;5;246m<chr>\u001b[38;5;246m\u001b[23m, dest \u001b[3m\u001b[38;5;246m<chr>\u001b[38;5;246m\u001b[23m,\u001b[39m\n",
      "\u001b[38;5;246m#   air_time \u001b[3m\u001b[38;5;246m<dbl>\u001b[38;5;246m\u001b[23m, distance \u001b[3m\u001b[38;5;246m<dbl>\u001b[38;5;246m\u001b[23m, hour \u001b[3m\u001b[38;5;246m<dbl>\u001b[38;5;246m\u001b[23m, minute \u001b[3m\u001b[38;5;246m<dbl>\u001b[38;5;246m\u001b[23m, time_hour \u001b[3m\u001b[38;5;246m<dttm>\u001b[38;5;246m\u001b[23m\u001b[39m\n"
     ]
    }
   ],
   "source": [
    "filter(flights, carrier == \"UA\") %>% print()"
   ]
  },
  {
   "cell_type": "markdown",
   "metadata": {},
   "source": [
    "#### Vector versus column versus data table\n",
    "There is particular confusion about when it is appropriate to use vectors, columns and data tables. We will be discussing these concepts at greater length in the coming weeks, but here are some essentials that you should know:"
   ]
  },
  {
   "cell_type": "markdown",
   "metadata": {},
   "source": [
    "**Vectors** in R contain multiple values. You create vectors using the `c()` function. If you do neglect to do this, R will produce an error and/or do the wrong thing. Some examples of this I saw include:\n",
    "```{r}\n",
    "a = factor(b, levels=1, 2, 3, 4, 5) ## wrong\n",
    "a = factor(b, levels=(1, 2, 3, 4, 5)) ## wrong\n",
    "a = factor(b, levels=c(1, 2, 3, 4, 5)) ## correct\n",
    "```"
   ]
  },
  {
   "cell_type": "markdown",
   "metadata": {},
   "source": [
    "Vectors have a particular type, and all the entries of the vector must be of that same type; if they are not R will convert them to be."
   ]
  },
  {
   "cell_type": "code",
   "execution_count": 29,
   "metadata": {},
   "outputs": [
    {
     "data": {
      "text/html": [
       "<style>\n",
       ".list-inline {list-style: none; margin:0; padding: 0}\n",
       ".list-inline>li {display: inline-block}\n",
       ".list-inline>li:not(:last-child)::after {content: \"\\00b7\"; padding: 0 .5ex}\n",
       "</style>\n",
       "<ol class=list-inline><li>'1'</li><li>'2'</li><li>'a'</li></ol>\n"
      ],
      "text/latex": [
       "\\begin{enumerate*}\n",
       "\\item '1'\n",
       "\\item '2'\n",
       "\\item 'a'\n",
       "\\end{enumerate*}\n"
      ],
      "text/markdown": [
       "1. '1'\n",
       "2. '2'\n",
       "3. 'a'\n",
       "\n",
       "\n"
      ],
      "text/plain": [
       "[1] \"1\" \"2\" \"a\""
      ]
     },
     "metadata": {},
     "output_type": "display_data"
    },
    {
     "data": {
      "text/html": [
       "<style>\n",
       ".list-inline {list-style: none; margin:0; padding: 0}\n",
       ".list-inline>li {display: inline-block}\n",
       ".list-inline>li:not(:last-child)::after {content: \"\\00b7\"; padding: 0 .5ex}\n",
       "</style>\n",
       "<ol class=list-inline><li>1</li><li>1</li><li>1</li></ol>\n"
      ],
      "text/latex": [
       "\\begin{enumerate*}\n",
       "\\item 1\n",
       "\\item 1\n",
       "\\item 1\n",
       "\\end{enumerate*}\n"
      ],
      "text/markdown": [
       "1. 1\n",
       "2. 1\n",
       "3. 1\n",
       "\n",
       "\n"
      ],
      "text/plain": [
       "[1] 1 1 1"
      ]
     },
     "metadata": {},
     "output_type": "display_data"
    }
   ],
   "source": [
    "c(1,2,'a')  # conversion to string\n",
    "c(T, T, factor('a'))  # conversion to int"
   ]
  },
  {
   "cell_type": "markdown",
   "metadata": {},
   "source": [
    "You can think of a data table as a list of vectors. Each column has its own vector. To access a vector of values stored in a column in R, we traditionally use the `$` operator:"
   ]
  },
  {
   "cell_type": "code",
   "execution_count": 30,
   "metadata": {},
   "outputs": [
    {
     "data": {
      "text/html": [
       "<style>\n",
       ".list-inline {list-style: none; margin:0; padding: 0}\n",
       ".list-inline>li {display: inline-block}\n",
       ".list-inline>li:not(:last-child)::after {content: \"\\00b7\"; padding: 0 .5ex}\n",
       "</style>\n",
       "<ol class=list-inline><li>'tbl_df'</li><li>'tbl'</li><li>'data.frame'</li></ol>\n"
      ],
      "text/latex": [
       "\\begin{enumerate*}\n",
       "\\item 'tbl\\_df'\n",
       "\\item 'tbl'\n",
       "\\item 'data.frame'\n",
       "\\end{enumerate*}\n"
      ],
      "text/markdown": [
       "1. 'tbl_df'\n",
       "2. 'tbl'\n",
       "3. 'data.frame'\n",
       "\n",
       "\n"
      ],
      "text/plain": [
       "[1] \"tbl_df\"     \"tbl\"        \"data.frame\""
      ]
     },
     "metadata": {},
     "output_type": "display_data"
    },
    {
     "data": {
      "text/html": [
       "'character'"
      ],
      "text/latex": [
       "'character'"
      ],
      "text/markdown": [
       "'character'"
      ],
      "text/plain": [
       "[1] \"character\""
      ]
     },
     "metadata": {},
     "output_type": "display_data"
    }
   ],
   "source": [
    "class(select(flights, tailnum))\n",
    "typeof(flights$tailnum)"
   ]
  },
  {
   "cell_type": "markdown",
   "metadata": {},
   "source": [
    "If working inside one of the `dplyr` functions like `mutate()`, `filter()`, etc., the dataset is specified by the first parameter. So you don't need to use the `$` operator, just specify the column name:\n",
    "```{r}\n",
    "filter(flights, flights$arr_delay < 10)  # wrong (although it will work)\n",
    "filter(flights, arr_delay < 10)  # correct\n",
    "```"
   ]
  },
  {
   "cell_type": "markdown",
   "metadata": {},
   "source": [
    "Even though they contain the same information, a column vector is *not the same* as a table containing only that column:"
   ]
  },
  {
   "cell_type": "code",
   "execution_count": 31,
   "metadata": {},
   "outputs": [
    {
     "data": {
      "text/html": [
       "<style>\n",
       ".list-inline {list-style: none; margin:0; padding: 0}\n",
       ".list-inline>li {display: inline-block}\n",
       ".list-inline>li:not(:last-child)::after {content: \"\\00b7\"; padding: 0 .5ex}\n",
       "</style>\n",
       "<ol class=list-inline><li>830</li><li>850</li><li>923</li><li>1004</li><li>812</li><li>740</li></ol>\n"
      ],
      "text/latex": [
       "\\begin{enumerate*}\n",
       "\\item 830\n",
       "\\item 850\n",
       "\\item 923\n",
       "\\item 1004\n",
       "\\item 812\n",
       "\\item 740\n",
       "\\end{enumerate*}\n"
      ],
      "text/markdown": [
       "1. 830\n",
       "2. 850\n",
       "3. 923\n",
       "4. 1004\n",
       "5. 812\n",
       "6. 740\n",
       "\n",
       "\n"
      ],
      "text/plain": [
       "[1]  830  850  923 1004  812  740"
      ]
     },
     "metadata": {},
     "output_type": "display_data"
    },
    {
     "data": {
      "text/html": [
       "<table>\n",
       "<caption>A tibble: 6 × 1</caption>\n",
       "<thead>\n",
       "\t<tr><th scope=col>arr_time</th></tr>\n",
       "\t<tr><th scope=col>&lt;int&gt;</th></tr>\n",
       "</thead>\n",
       "<tbody>\n",
       "\t<tr><td> 830</td></tr>\n",
       "\t<tr><td> 850</td></tr>\n",
       "\t<tr><td> 923</td></tr>\n",
       "\t<tr><td>1004</td></tr>\n",
       "\t<tr><td> 812</td></tr>\n",
       "\t<tr><td> 740</td></tr>\n",
       "</tbody>\n",
       "</table>\n"
      ],
      "text/latex": [
       "A tibble: 6 × 1\n",
       "\\begin{tabular}{l}\n",
       " arr\\_time\\\\\n",
       " <int>\\\\\n",
       "\\hline\n",
       "\t  830\\\\\n",
       "\t  850\\\\\n",
       "\t  923\\\\\n",
       "\t 1004\\\\\n",
       "\t  812\\\\\n",
       "\t  740\\\\\n",
       "\\end{tabular}\n"
      ],
      "text/markdown": [
       "\n",
       "A tibble: 6 × 1\n",
       "\n",
       "| arr_time &lt;int&gt; |\n",
       "|---|\n",
       "|  830 |\n",
       "|  850 |\n",
       "|  923 |\n",
       "| 1004 |\n",
       "|  812 |\n",
       "|  740 |\n",
       "\n"
      ],
      "text/plain": [
       "  arr_time\n",
       "1  830    \n",
       "2  850    \n",
       "3  923    \n",
       "4 1004    \n",
       "5  812    \n",
       "6  740    "
      ]
     },
     "metadata": {},
     "output_type": "display_data"
    }
   ],
   "source": [
    "head(flights$arr_time)  # <---- vector     \n",
    "# is different from...\n",
    "head(select(flights, arr_time)) # <---- data table"
   ]
  }
 ],
 "metadata": {
  "kernelspec": {
   "display_name": "R",
   "language": "R",
   "name": "ir"
  },
  "language_info": {
   "codemirror_mode": "r",
   "file_extension": ".r",
   "mimetype": "text/x-r-source",
   "name": "R",
   "pygments_lexer": "r",
   "version": "3.6.2"
  }
 },
 "nbformat": 4,
 "nbformat_minor": 1
}
