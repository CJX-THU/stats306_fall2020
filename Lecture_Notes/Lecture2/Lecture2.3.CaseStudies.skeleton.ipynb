{
 "cells": [
  {
   "cell_type": "markdown",
   "metadata": {},
   "source": [
    "# Lecture 2.3: Case Studies\n",
    "\n",
    "<div style=\"border: 1px double black; padding: 10px; margin: 10px\">\n",
    "   \n",
    "**Goals in this lecture:**\n",
    "    \n",
    "* We will go through the data set `mpg` by answering several questions using plots\n",
    "* We will then try to understand the millenials betteer\n",
    "\n",
    "</div>\n",
    "\n"
   ]
  },
  {
   "cell_type": "markdown",
   "metadata": {},
   "source": [
    "We start with the `mpg` data set.  "
   ]
  },
  {
   "cell_type": "code",
   "execution_count": 1,
   "metadata": {},
   "outputs": [
    {
     "name": "stderr",
     "output_type": "stream",
     "text": [
      "── \u001b[1mAttaching packages\u001b[22m ─────────────────────────────────────── tidyverse 1.3.0 ──\n",
      "\n",
      "\u001b[32m✔\u001b[39m \u001b[34mggplot2\u001b[39m 3.3.2     \u001b[32m✔\u001b[39m \u001b[34mpurrr  \u001b[39m 0.3.4\n",
      "\u001b[32m✔\u001b[39m \u001b[34mtibble \u001b[39m 3.0.3     \u001b[32m✔\u001b[39m \u001b[34mdplyr  \u001b[39m 1.0.2\n",
      "\u001b[32m✔\u001b[39m \u001b[34mtidyr  \u001b[39m 1.1.1     \u001b[32m✔\u001b[39m \u001b[34mstringr\u001b[39m 1.4.0\n",
      "\u001b[32m✔\u001b[39m \u001b[34mreadr  \u001b[39m 1.3.1     \u001b[32m✔\u001b[39m \u001b[34mforcats\u001b[39m 0.5.0\n",
      "\n",
      "── \u001b[1mConflicts\u001b[22m ────────────────────────────────────────── tidyverse_conflicts() ──\n",
      "\u001b[31m✖\u001b[39m \u001b[34mdplyr\u001b[39m::\u001b[32mfilter()\u001b[39m masks \u001b[34mstats\u001b[39m::filter()\n",
      "\u001b[31m✖\u001b[39m \u001b[34mdplyr\u001b[39m::\u001b[32mlag()\u001b[39m    masks \u001b[34mstats\u001b[39m::lag()\n",
      "\n"
     ]
    },
    {
     "name": "stdout",
     "output_type": "stream",
     "text": [
      "\u001b[38;5;246m# A tibble: 234 x 11\u001b[39m\n",
      "   manufacturer model    displ  year   cyl trans   drv     cty   hwy fl    class\n",
      "   \u001b[3m\u001b[38;5;246m<chr>\u001b[39m\u001b[23m        \u001b[3m\u001b[38;5;246m<chr>\u001b[39m\u001b[23m    \u001b[3m\u001b[38;5;246m<dbl>\u001b[39m\u001b[23m \u001b[3m\u001b[38;5;246m<int>\u001b[39m\u001b[23m \u001b[3m\u001b[38;5;246m<int>\u001b[39m\u001b[23m \u001b[3m\u001b[38;5;246m<chr>\u001b[39m\u001b[23m   \u001b[3m\u001b[38;5;246m<chr>\u001b[39m\u001b[23m \u001b[3m\u001b[38;5;246m<int>\u001b[39m\u001b[23m \u001b[3m\u001b[38;5;246m<int>\u001b[39m\u001b[23m \u001b[3m\u001b[38;5;246m<chr>\u001b[39m\u001b[23m \u001b[3m\u001b[38;5;246m<chr>\u001b[39m\u001b[23m\n",
      "\u001b[38;5;250m 1\u001b[39m audi         a4         1.8  \u001b[4m1\u001b[24m999     4 auto(l… f        18    29 p     comp…\n",
      "\u001b[38;5;250m 2\u001b[39m audi         a4         1.8  \u001b[4m1\u001b[24m999     4 manual… f        21    29 p     comp…\n",
      "\u001b[38;5;250m 3\u001b[39m audi         a4         2    \u001b[4m2\u001b[24m008     4 manual… f        20    31 p     comp…\n",
      "\u001b[38;5;250m 4\u001b[39m audi         a4         2    \u001b[4m2\u001b[24m008     4 auto(a… f        21    30 p     comp…\n",
      "\u001b[38;5;250m 5\u001b[39m audi         a4         2.8  \u001b[4m1\u001b[24m999     6 auto(l… f        16    26 p     comp…\n",
      "\u001b[38;5;250m 6\u001b[39m audi         a4         2.8  \u001b[4m1\u001b[24m999     6 manual… f        18    26 p     comp…\n",
      "\u001b[38;5;250m 7\u001b[39m audi         a4         3.1  \u001b[4m2\u001b[24m008     6 auto(a… f        18    27 p     comp…\n",
      "\u001b[38;5;250m 8\u001b[39m audi         a4 quat…   1.8  \u001b[4m1\u001b[24m999     4 manual… 4        18    26 p     comp…\n",
      "\u001b[38;5;250m 9\u001b[39m audi         a4 quat…   1.8  \u001b[4m1\u001b[24m999     4 auto(l… 4        16    25 p     comp…\n",
      "\u001b[38;5;250m10\u001b[39m audi         a4 quat…   2    \u001b[4m2\u001b[24m008     4 manual… 4        20    28 p     comp…\n",
      "\u001b[38;5;246m# … with 224 more rows\u001b[39m\n"
     ]
    }
   ],
   "source": [
    "library(tidyverse)\n",
    "print(mpg)"
   ]
  },
  {
   "cell_type": "markdown",
   "metadata": {},
   "source": [
    "Make a scatterplot of year vs highway gas mileage. "
   ]
  },
  {
   "cell_type": "code",
   "execution_count": null,
   "metadata": {},
   "outputs": [],
   "source": []
  },
  {
   "cell_type": "markdown",
   "metadata": {},
   "source": [
    "It turns out that there are only two years represented in the data, not really enought to paint a full picture over time. Instead we can treat year as a categorical variable and look at the distribution of **hwy** within each value of year. For this we will use a new geom called ``boxplot``:"
   ]
  },
  {
   "cell_type": "code",
   "execution_count": null,
   "metadata": {},
   "outputs": [],
   "source": []
  },
  {
   "cell_type": "markdown",
   "metadata": {},
   "source": [
    "The boxplot displays the following information: \n",
    "*  minimum\n",
    "*  maximum\n",
    "*  25% Quartile\n",
    "*  75% Quartile\n",
    "*  median"
   ]
  },
  {
   "cell_type": "markdown",
   "metadata": {},
   "source": [
    "Surprisingly, the median highway gas mileage went down from 1999 to 2008. Why might this be? Let's try plotting the fraction of car types represented in each data set. To do this we will plot a bar chart. This takes one aesthetic called `x=` and makes a plot with the number of times that each (discrete) value of `x` appears in the data set. Here is an example which counts the number of cars in each class:"
   ]
  },
  {
   "cell_type": "code",
   "execution_count": null,
   "metadata": {},
   "outputs": [],
   "source": []
  },
  {
   "cell_type": "markdown",
   "metadata": {},
   "source": [
    "We will now make a plot of the number of different auto classes in 1999 vs 2008:"
   ]
  },
  {
   "cell_type": "code",
   "execution_count": null,
   "metadata": {},
   "outputs": [],
   "source": []
  },
  {
   "cell_type": "markdown",
   "metadata": {},
   "source": [
    "##  Understaning Millenials "
   ]
  },
  {
   "cell_type": "markdown",
   "metadata": {},
   "source": [
    "## Millenials\n",
    "Next we will focus on data set released by the [Pew Research Center](https://www.pewsocialtrends.org/2010/02/24/millennials-confident-connected-open-to-change/) on ... millennials!\n",
    "\n",
    "![millennials](https://images2.minutemediacdn.com/image/upload/c_crop,h_1189,w_2119,x_0,y_225/f_auto,q_auto,w_1100/v1561494201/shape/mentalfloss/586493-istock-862201574.jpg)\n",
    "\n",
    "The data set we will analyze is based on a survey of about 2,000 people done in 2011:"
   ]
  },
  {
   "cell_type": "code",
   "execution_count": 13,
   "metadata": {},
   "outputs": [
    {
     "data": {
      "text/html": [
       "<table>\n",
       "<caption>A tibble: 6 × 31</caption>\n",
       "<thead>\n",
       "\t<tr><th scope=col>age</th><th scope=col>state</th><th scope=col>q1</th><th scope=col>q8a</th><th scope=col>q8b</th><th scope=col>q8c</th><th scope=col>q8d</th><th scope=col>q8e</th><th scope=col>q8f</th><th scope=col>q8g</th><th scope=col>⋯</th><th scope=col>q44g</th><th scope=col>q44i</th><th scope=col>q45a</th><th scope=col>q46</th><th scope=col>employ</th><th scope=col>lwp</th><th scope=col>finan</th><th scope=col>home2</th><th scope=col>educ</th><th scope=col>health</th></tr>\n",
       "\t<tr><th scope=col>&lt;fct&gt;</th><th scope=col>&lt;chr&gt;</th><th scope=col>&lt;fct&gt;</th><th scope=col>&lt;fct&gt;</th><th scope=col>&lt;fct&gt;</th><th scope=col>&lt;fct&gt;</th><th scope=col>&lt;fct&gt;</th><th scope=col>&lt;fct&gt;</th><th scope=col>&lt;fct&gt;</th><th scope=col>&lt;fct&gt;</th><th scope=col>⋯</th><th scope=col>&lt;fct&gt;</th><th scope=col>&lt;fct&gt;</th><th scope=col>&lt;fct&gt;</th><th scope=col>&lt;fct&gt;</th><th scope=col>&lt;fct&gt;</th><th scope=col>&lt;fct&gt;</th><th scope=col>&lt;fct&gt;</th><th scope=col>&lt;fct&gt;</th><th scope=col>&lt;fct&gt;</th><th scope=col>&lt;fct&gt;</th></tr>\n",
       "</thead>\n",
       "<tbody>\n",
       "\t<tr><td>28                    </td><td>NY</td><td>Very happy  </td><td>Very important but not the most </td><td>Very important but not the most </td><td>Very important but not the most </td><td>Very important but not the most </td><td>Very important but not the most</td><td>Not important</td><td>Very important but not the most </td><td>⋯</td><td>NA </td><td>NA </td><td>No </td><td>NA</td><td>Full-time   </td><td>NA                                             </td><td>No</td><td>Rent</td><td>Some college, no 4-year degree (including associate degree)</td><td>Covered by health insurance</td></tr>\n",
       "\t<tr><td>33                    </td><td>NE</td><td>Very happy  </td><td>Not important                   </td><td>One of the most important things</td><td>One of the most important things</td><td>Very important but not the most </td><td>Very important but not the most</td><td>Not important</td><td>One of the most important things</td><td>⋯</td><td>NA </td><td>NA </td><td>Yes</td><td>1 </td><td>Part-time   </td><td>NA                                             </td><td>No</td><td>NA  </td><td>Some college, no 4-year degree (including associate degree)</td><td>Covered by health insurance</td></tr>\n",
       "\t<tr><td>45                    </td><td>IN</td><td>Pretty happy</td><td>Somewhat important              </td><td>One of the most important things</td><td>Somewhat important              </td><td>One of the most important things</td><td>Somewhat important             </td><td>Not important</td><td>Somewhat important              </td><td>⋯</td><td>Yes</td><td>No </td><td>No </td><td>NA</td><td>Not employed</td><td>Lived with current spouse before married       </td><td>NA</td><td>NA  </td><td>College graduate (B.S., B.A., or other 4-year degree)      </td><td>Covered by health insurance</td></tr>\n",
       "\t<tr><td>66                    </td><td>IN</td><td>Very happy  </td><td>Very important but not the most </td><td>Very important but not the most </td><td>Very important but not the most </td><td>Very important but not the most </td><td>Somewhat important             </td><td>Not important</td><td>Very important but not the most </td><td>⋯</td><td>NA </td><td>NA </td><td>No </td><td>NA</td><td>Part-time   </td><td>NA                                             </td><td>NA</td><td>NA  </td><td>High school incomplete (Grades 9-11)                       </td><td>Covered by health insurance</td></tr>\n",
       "\t<tr><td>52                    </td><td>VA</td><td>Very happy  </td><td>One of the most important things</td><td>Very important but not the most </td><td>Very important but not the most </td><td>One of the most important things</td><td>Somewhat important             </td><td>Not important</td><td>Very important but not the most </td><td>⋯</td><td>Yes</td><td>Yes</td><td>No </td><td>NA</td><td>Full-time   </td><td>Lived with both current spouse and someone else</td><td>NA</td><td>NA  </td><td>College graduate (B.S., B.A., or other 4-year degree)      </td><td>Covered by health insurance</td></tr>\n",
       "\t<tr><td>VOL DON'T KNOW/REFUSED</td><td>MD</td><td>Very happy  </td><td>Somewhat important              </td><td>One of the most important things</td><td>One of the most important things</td><td>Very important but not the most </td><td>Somewhat important             </td><td>Not important</td><td>(VOL) Don't know/Refused        </td><td>⋯</td><td>NA </td><td>Yes</td><td>No </td><td>NA</td><td>Not employed</td><td>NA                                             </td><td>NA</td><td>NA  </td><td>Some college, no 4-year degree (including associate degree)</td><td>Covered by health insurance</td></tr>\n",
       "</tbody>\n",
       "</table>\n"
      ],
      "text/latex": [
       "A tibble: 6 × 31\n",
       "\\begin{tabular}{lllllllllllllllllllll}\n",
       " age & state & q1 & q8a & q8b & q8c & q8d & q8e & q8f & q8g & ⋯ & q44g & q44i & q45a & q46 & employ & lwp & finan & home2 & educ & health\\\\\n",
       " <fct> & <chr> & <fct> & <fct> & <fct> & <fct> & <fct> & <fct> & <fct> & <fct> & ⋯ & <fct> & <fct> & <fct> & <fct> & <fct> & <fct> & <fct> & <fct> & <fct> & <fct>\\\\\n",
       "\\hline\n",
       "\t 28                     & NY & Very happy   & Very important but not the most  & Very important but not the most  & Very important but not the most  & Very important but not the most  & Very important but not the most & Not important & Very important but not the most  & ⋯ & NA  & NA  & No  & NA & Full-time    & NA                                              & No & Rent & Some college, no 4-year degree (including associate degree) & Covered by health insurance\\\\\n",
       "\t 33                     & NE & Very happy   & Not important                    & One of the most important things & One of the most important things & Very important but not the most  & Very important but not the most & Not important & One of the most important things & ⋯ & NA  & NA  & Yes & 1  & Part-time    & NA                                              & No & NA   & Some college, no 4-year degree (including associate degree) & Covered by health insurance\\\\\n",
       "\t 45                     & IN & Pretty happy & Somewhat important               & One of the most important things & Somewhat important               & One of the most important things & Somewhat important              & Not important & Somewhat important               & ⋯ & Yes & No  & No  & NA & Not employed & Lived with current spouse before married        & NA & NA   & College graduate (B.S., B.A., or other 4-year degree)       & Covered by health insurance\\\\\n",
       "\t 66                     & IN & Very happy   & Very important but not the most  & Very important but not the most  & Very important but not the most  & Very important but not the most  & Somewhat important              & Not important & Very important but not the most  & ⋯ & NA  & NA  & No  & NA & Part-time    & NA                                              & NA & NA   & High school incomplete (Grades 9-11)                        & Covered by health insurance\\\\\n",
       "\t 52                     & VA & Very happy   & One of the most important things & Very important but not the most  & Very important but not the most  & One of the most important things & Somewhat important              & Not important & Very important but not the most  & ⋯ & Yes & Yes & No  & NA & Full-time    & Lived with both current spouse and someone else & NA & NA   & College graduate (B.S., B.A., or other 4-year degree)       & Covered by health insurance\\\\\n",
       "\t VOL DON'T KNOW/REFUSED & MD & Very happy   & Somewhat important               & One of the most important things & One of the most important things & Very important but not the most  & Somewhat important              & Not important & (VOL) Don't know/Refused         & ⋯ & NA  & Yes & No  & NA & Not employed & NA                                              & NA & NA   & Some college, no 4-year degree (including associate degree) & Covered by health insurance\\\\\n",
       "\\end{tabular}\n"
      ],
      "text/markdown": [
       "\n",
       "A tibble: 6 × 31\n",
       "\n",
       "| age &lt;fct&gt; | state &lt;chr&gt; | q1 &lt;fct&gt; | q8a &lt;fct&gt; | q8b &lt;fct&gt; | q8c &lt;fct&gt; | q8d &lt;fct&gt; | q8e &lt;fct&gt; | q8f &lt;fct&gt; | q8g &lt;fct&gt; | ⋯ ⋯ | q44g &lt;fct&gt; | q44i &lt;fct&gt; | q45a &lt;fct&gt; | q46 &lt;fct&gt; | employ &lt;fct&gt; | lwp &lt;fct&gt; | finan &lt;fct&gt; | home2 &lt;fct&gt; | educ &lt;fct&gt; | health &lt;fct&gt; |\n",
       "|---|---|---|---|---|---|---|---|---|---|---|---|---|---|---|---|---|---|---|---|---|\n",
       "| 28                     | NY | Very happy   | Very important but not the most  | Very important but not the most  | Very important but not the most  | Very important but not the most  | Very important but not the most | Not important | Very important but not the most  | ⋯ | NA  | NA  | No  | NA | Full-time    | NA                                              | No | Rent | Some college, no 4-year degree (including associate degree) | Covered by health insurance |\n",
       "| 33                     | NE | Very happy   | Not important                    | One of the most important things | One of the most important things | Very important but not the most  | Very important but not the most | Not important | One of the most important things | ⋯ | NA  | NA  | Yes | 1  | Part-time    | NA                                              | No | NA   | Some college, no 4-year degree (including associate degree) | Covered by health insurance |\n",
       "| 45                     | IN | Pretty happy | Somewhat important               | One of the most important things | Somewhat important               | One of the most important things | Somewhat important              | Not important | Somewhat important               | ⋯ | Yes | No  | No  | NA | Not employed | Lived with current spouse before married        | NA | NA   | College graduate (B.S., B.A., or other 4-year degree)       | Covered by health insurance |\n",
       "| 66                     | IN | Very happy   | Very important but not the most  | Very important but not the most  | Very important but not the most  | Very important but not the most  | Somewhat important              | Not important | Very important but not the most  | ⋯ | NA  | NA  | No  | NA | Part-time    | NA                                              | NA | NA   | High school incomplete (Grades 9-11)                        | Covered by health insurance |\n",
       "| 52                     | VA | Very happy   | One of the most important things | Very important but not the most  | Very important but not the most  | One of the most important things | Somewhat important              | Not important | Very important but not the most  | ⋯ | Yes | Yes | No  | NA | Full-time    | Lived with both current spouse and someone else | NA | NA   | College graduate (B.S., B.A., or other 4-year degree)       | Covered by health insurance |\n",
       "| VOL DON'T KNOW/REFUSED | MD | Very happy   | Somewhat important               | One of the most important things | One of the most important things | Very important but not the most  | Somewhat important              | Not important | (VOL) Don't know/Refused         | ⋯ | NA  | Yes | No  | NA | Not employed | NA                                              | NA | NA   | Some college, no 4-year degree (including associate degree) | Covered by health insurance |\n",
       "\n"
      ],
      "text/plain": [
       "  age                    state q1           q8a                             \n",
       "1 28                     NY    Very happy   Very important but not the most \n",
       "2 33                     NE    Very happy   Not important                   \n",
       "3 45                     IN    Pretty happy Somewhat important              \n",
       "4 66                     IN    Very happy   Very important but not the most \n",
       "5 52                     VA    Very happy   One of the most important things\n",
       "6 VOL DON'T KNOW/REFUSED MD    Very happy   Somewhat important              \n",
       "  q8b                              q8c                             \n",
       "1 Very important but not the most  Very important but not the most \n",
       "2 One of the most important things One of the most important things\n",
       "3 One of the most important things Somewhat important              \n",
       "4 Very important but not the most  Very important but not the most \n",
       "5 Very important but not the most  Very important but not the most \n",
       "6 One of the most important things One of the most important things\n",
       "  q8d                              q8e                            \n",
       "1 Very important but not the most  Very important but not the most\n",
       "2 Very important but not the most  Very important but not the most\n",
       "3 One of the most important things Somewhat important             \n",
       "4 Very important but not the most  Somewhat important             \n",
       "5 One of the most important things Somewhat important             \n",
       "6 Very important but not the most  Somewhat important             \n",
       "  q8f           q8g                              ⋯ q44g q44i q45a q46\n",
       "1 Not important Very important but not the most  ⋯ NA   NA   No   NA \n",
       "2 Not important One of the most important things ⋯ NA   NA   Yes  1  \n",
       "3 Not important Somewhat important               ⋯ Yes  No   No   NA \n",
       "4 Not important Very important but not the most  ⋯ NA   NA   No   NA \n",
       "5 Not important Very important but not the most  ⋯ Yes  Yes  No   NA \n",
       "6 Not important (VOL) Don't know/Refused         ⋯ NA   Yes  No   NA \n",
       "  employ       lwp                                             finan home2\n",
       "1 Full-time    NA                                              No    Rent \n",
       "2 Part-time    NA                                              No    NA   \n",
       "3 Not employed Lived with current spouse before married        NA    NA   \n",
       "4 Part-time    NA                                              NA    NA   \n",
       "5 Full-time    Lived with both current spouse and someone else NA    NA   \n",
       "6 Not employed NA                                              NA    NA   \n",
       "  educ                                                       \n",
       "1 Some college, no 4-year degree (including associate degree)\n",
       "2 Some college, no 4-year degree (including associate degree)\n",
       "3 College graduate (B.S., B.A., or other 4-year degree)      \n",
       "4 High school incomplete (Grades 9-11)                       \n",
       "5 College graduate (B.S., B.A., or other 4-year degree)      \n",
       "6 Some college, no 4-year degree (including associate degree)\n",
       "  health                     \n",
       "1 Covered by health insurance\n",
       "2 Covered by health insurance\n",
       "3 Covered by health insurance\n",
       "4 Covered by health insurance\n",
       "5 Covered by health insurance\n",
       "6 Covered by health insurance"
      ]
     },
     "metadata": {},
     "output_type": "display_data"
    }
   ],
   "source": [
    "load(\"millennials.RData\")\n",
    "head(mil)"
   ]
  },
  {
   "cell_type": "markdown",
   "metadata": {},
   "source": [
    "Each column of the data corresponds to one of the question asked during the survey. You can find the full script in the `Millennials_Ques.pdf` in Canvas or Github."
   ]
  },
  {
   "cell_type": "markdown",
   "metadata": {},
   "source": [
    "## Bar charts\n",
    "Let us try to explore Question 20 in the pdf:\n",
    "\n",
    "    Q.20\tHow often do you visit the social networking site you use most often… several times a day, about once a day, every few days, once a week or less often?\n",
    "    \n",
    "Plot a barchart to visualize the data collected for answering Question 20. "
   ]
  },
  {
   "cell_type": "code",
   "execution_count": null,
   "metadata": {},
   "outputs": [],
   "source": []
  },
  {
   "cell_type": "markdown",
   "metadata": {},
   "source": [
    "As we can see from the plot, there are a lot of missing values. Moreover, the labels on the `x-axis` overlaps with each other.  We will now plot those bars on the `y-axis` to avoid overlapping labels."
   ]
  },
  {
   "cell_type": "code",
   "execution_count": null,
   "metadata": {},
   "outputs": [],
   "source": []
  },
  {
   "cell_type": "markdown",
   "metadata": {},
   "source": [
    "Let's try to improve the plot by introducing colors to the bar charts. "
   ]
  },
  {
   "cell_type": "code",
   "execution_count": null,
   "metadata": {},
   "outputs": [],
   "source": []
  },
  {
   "cell_type": "markdown",
   "metadata": {},
   "source": [
    "What happens when we map the `fill` aesthetic to some variable other than `q20`? For example, let's visualize social media usage relative to the response to the question:\n",
    "\n",
    "    EMPLOY\tHow much are you employed?"
   ]
  },
  {
   "cell_type": "code",
   "execution_count": null,
   "metadata": {},
   "outputs": [],
   "source": []
  },
  {
   "cell_type": "markdown",
   "metadata": {},
   "source": [
    "We could also remove the missing values before we plot."
   ]
  },
  {
   "cell_type": "code",
   "execution_count": null,
   "metadata": {},
   "outputs": [],
   "source": []
  },
  {
   "cell_type": "markdown",
   "metadata": {},
   "source": [
    "What if we want to compare the proportion of employment status for each q20."
   ]
  },
  {
   "cell_type": "code",
   "execution_count": null,
   "metadata": {},
   "outputs": [],
   "source": []
  },
  {
   "cell_type": "markdown",
   "metadata": {},
   "source": [
    "### Pie Charts"
   ]
  },
  {
   "cell_type": "markdown",
   "metadata": {},
   "source": [
    "Let's try plotting a piechart to explore the question \n",
    "\n",
    "    Q.36\tHow closely do you watch the amount of money you spend?"
   ]
  },
  {
   "cell_type": "code",
   "execution_count": null,
   "metadata": {},
   "outputs": [],
   "source": []
  },
  {
   "cell_type": "code",
   "execution_count": null,
   "metadata": {},
   "outputs": [],
   "source": []
  },
  {
   "cell_type": "markdown",
   "metadata": {},
   "source": [
    "From the piechart, we learn that majority of millenials tend to be more financially responsible and tend to monitor their spending very closely and fairly closely.  "
   ]
  },
  {
   "cell_type": "markdown",
   "metadata": {},
   "source": [
    "### Facets"
   ]
  },
  {
   "cell_type": "markdown",
   "metadata": {},
   "source": [
    "We already saw how to add a third variable to a scatter plot by using a color aesthetics. **Facets** provide another way to stratify plots by additional variables. Let's look at responses to:\n",
    "    \n",
    "    AGE.    What is your age?\n",
    "    Q44g.\tHave you ever sent or received a text message while driving?\n",
    "    Q44i.\tHave you ever placed your cell phone on or right next \n",
    "            to your bed while sleeping?"
   ]
  },
  {
   "cell_type": "markdown",
   "metadata": {},
   "source": [
    "Plot boxplots for age segregated by Q44g.  "
   ]
  },
  {
   "cell_type": "code",
   "execution_count": null,
   "metadata": {},
   "outputs": [],
   "source": []
  },
  {
   "cell_type": "markdown",
   "metadata": {},
   "source": [
    "What if we want to understand a combination of Q44g and Q44i?"
   ]
  },
  {
   "cell_type": "code",
   "execution_count": null,
   "metadata": {},
   "outputs": [],
   "source": []
  },
  {
   "cell_type": "markdown",
   "metadata": {},
   "source": [
    "## Other interesting questions\n",
    "Here are all the question definitions in this data set: "
   ]
  },
  {
   "cell_type": "markdown",
   "metadata": {},
   "source": [
    "Q.8\tPlease tell me how important each is to you personally.\n",
    "\ta.\tBeing successful in a high-paying career or profession \n",
    "\tb.\tHaving a successful marriage \n",
    "\tc.\tLiving a very religious life \n",
    "\td.\tBeing a good parent \n",
    "\te.\tHaving lots of free time to relax or do things you want to do \n",
    "\tf.\tBecoming famous \n",
    "\tg.\tHelping other people who are in need \n",
    "\th.\tOwning your own home \n",
    "\n",
    "    Q.20\tHow often do you visit the social networking site you use most often.\n",
    "    \n",
    "    Q.25 \tThinking about the past 24 hours, about how many text messages did you send and receive on your cell phone? \n",
    "\n",
    "    Q.36\tHow closely do you watch the amount of money you spend?\n",
    "    \n",
    "    Q. 41   Do you strongly favor, favor, oppose, or strongly oppose allowing gay and lesbian couples to marry legally?\n",
    "    \n",
    "    Q.44\t\n",
    "        a.\tDo you recycle paper, plastic or glass from home? \n",
    "        b.\tDo you have a close friend or family member who is gay? \n",
    "        c.\tDo you happen to have any guns, rifles or pistols in your home? \n",
    "        d.\tHave you ever posted a video of yourself online? \n",
    "        g.\tHave you ever sent or received a text message while driving?\n",
    "        i.\tHave you ever placed your cell phone on or right next to your bed while sleeping?\n",
    "    \n",
    "    Q.46\tHow many tattoos do you have?\n",
    "    \n",
    "    HOME2\tDo you own your home, rent, live in a dorm or live with your parents?\n",
    "    LWP2 \tHave you ever lived together with a partner without being married, or not?\n",
    "    HEALTH\tAre you, yourself, now covered by any form of health insurance or health plan or are you not covered at this time?\n",
    "    FINAN\tDo you depend on your parents or other family members for financial assistance, or not? \n",
    "    EDUC\tWhat is the last grade or class that you completed in school? \n",
    "    AGE     How old are you?"
   ]
  }
 ],
 "metadata": {
  "kernelspec": {
   "display_name": "R",
   "language": "R",
   "name": "ir"
  },
  "language_info": {
   "codemirror_mode": "r",
   "file_extension": ".r",
   "mimetype": "text/x-r-source",
   "name": "R",
   "pygments_lexer": "r",
   "version": "3.6.2"
  }
 },
 "nbformat": 4,
 "nbformat_minor": 1
}
