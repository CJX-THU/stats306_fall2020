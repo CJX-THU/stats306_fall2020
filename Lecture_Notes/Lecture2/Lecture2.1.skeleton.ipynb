{
 "cells": [
  {
   "cell_type": "markdown",
   "metadata": {},
   "source": [
    "# Lecture 2.1: More on ``ggplot``\n",
    "\n",
    "<div style=\"border: 1px double black; padding: 10px; margin: 10px\">\n",
    "    \n",
    "In the previous lecture, you have learnt how to:\n",
    "\n",
    "* Use the ``ggplot2`` package to produce simple plots.\n",
    "* Understand the basics of [aesthetic mappings](#Aesthetic-Mappings).\n",
    "    \n",
    "\n",
    "**Goals for today's lecture:**\n",
    "\n",
    "After today's lecture you will understand how to:\n",
    "\n",
    "* Use ``Facets`` to produce plots with multiple panels.\n",
    "* Learn more about different geometric objects in ggplot.  \n",
    "    \n",
    "This lecture note corresponds to Sections 3.5-3.6 in the book. \n",
    "\n",
    "</div>\n",
    "\n",
    "Let us start by revisiting the **mpg** data set and recap what we have learnt in the last lecture."
   ]
  },
  {
   "cell_type": "markdown",
   "metadata": {},
   "source": [
    "The **mpg** data set is in the library called **tidyverse**.  To access the data set, we need to load the library first. "
   ]
  },
  {
   "cell_type": "code",
   "execution_count": null,
   "metadata": {},
   "outputs": [],
   "source": []
  },
  {
   "cell_type": "markdown",
   "metadata": {},
   "source": [
    "Now let us recap on how we use ggplot to plot a scatterplot."
   ]
  },
  {
   "cell_type": "code",
   "execution_count": null,
   "metadata": {},
   "outputs": [],
   "source": []
  },
  {
   "cell_type": "markdown",
   "metadata": {},
   "source": [
    "How about plotting a scatterplot with different colors for each car class?  "
   ]
  },
  {
   "cell_type": "code",
   "execution_count": null,
   "metadata": {},
   "outputs": [],
   "source": []
  },
  {
   "cell_type": "markdown",
   "metadata": {
    "collapsed": true
   },
   "source": [
    "# Facets"
   ]
  },
  {
   "cell_type": "markdown",
   "metadata": {},
   "source": [
    "We already saw how to add a third variable to a scatter plot by using several different kinds of aesthetics. **Facets** provide another way to stratify plots by an additional variable.  In other words, **Facets** split your plot into subplots that each display one subset of the data."
   ]
  },
  {
   "cell_type": "markdown",
   "metadata": {},
   "source": [
    "Now let us try to make a scatterplot of **displ** versus **hwy** again, but now split our scatterplot into 7 subplots with each displaying data for each car class.  We will use **Facets** to do this. "
   ]
  },
  {
   "cell_type": "code",
   "execution_count": null,
   "metadata": {},
   "outputs": [],
   "source": []
  },
  {
   "cell_type": "markdown",
   "metadata": {},
   "source": [
    "### What happen if we facet on a continuous variable, say city mileage **cty**? "
   ]
  },
  {
   "cell_type": "code",
   "execution_count": null,
   "metadata": {},
   "outputs": [],
   "source": []
  },
  {
   "cell_type": "markdown",
   "metadata": {},
   "source": [
    "### You can facet on a combination of variables by modifying the formula to include more variables."
   ]
  },
  {
   "cell_type": "markdown",
   "metadata": {},
   "source": [
    "Plot a scatterplot for each combination of car **class** and **drive**"
   ]
  },
  {
   "cell_type": "code",
   "execution_count": null,
   "metadata": {},
   "outputs": [],
   "source": []
  },
  {
   "cell_type": "markdown",
   "metadata": {},
   "source": [
    "It is possible to leave out the Y axis or the X axis in `facet_grid`"
   ]
  },
  {
   "cell_type": "code",
   "execution_count": null,
   "metadata": {},
   "outputs": [],
   "source": []
  },
  {
   "cell_type": "code",
   "execution_count": null,
   "metadata": {},
   "outputs": [],
   "source": []
  },
  {
   "cell_type": "markdown",
   "metadata": {},
   "source": [
    "Note the difference between `facet_wrap(~ class)` and `facet_grid(. ~ class)`. The former will wrap a 1d grid over multiple rows whereas the latter will not wrap around. You can control the number of rows in `facet_wrap` using `nrow`. "
   ]
  },
  {
   "cell_type": "code",
   "execution_count": null,
   "metadata": {},
   "outputs": [],
   "source": []
  },
  {
   "cell_type": "markdown",
   "metadata": {},
   "source": [
    "# Geometric Objects"
   ]
  },
  {
   "cell_type": "markdown",
   "metadata": {},
   "source": [
    "```geom``` is a geometrical object that a plot uses to represent data.  Previously, we have seen scatterplots using the geometrical object ```geom_point()```.  We will now investigate how different geometrical objects can be used to represent the same data.     "
   ]
  },
  {
   "cell_type": "markdown",
   "metadata": {
    "collapsed": true
   },
   "source": [
    "Let us go back to our favorite scatter plot: highway mileage vs engine displacement 😀"
   ]
  },
  {
   "cell_type": "code",
   "execution_count": null,
   "metadata": {},
   "outputs": [],
   "source": []
  },
  {
   "cell_type": "markdown",
   "metadata": {},
   "source": [
    "Instead of the point **geom** (i.e., a ggplot geometrical object) specified by `geom_point`, let us now use a smooth geom using `geom_smooth`.  "
   ]
  },
  {
   "cell_type": "code",
   "execution_count": null,
   "metadata": {},
   "outputs": [],
   "source": []
  },
  {
   "cell_type": "markdown",
   "metadata": {},
   "source": [
    "Note that the two plots above use exactly the same data but display them using different **geoms**.\n",
    "\n",
    "The list of available aesthetic mappings can vary from geom to geom. E.g., `geom_point` has the following aesthetics:\n",
    "\n",
    "* `x` (required)\n",
    "* `y` (required)\n",
    "* `alpha`\n",
    "* `color`\n",
    "* `fill`\n",
    "* `group`\n",
    "* `shape`\n",
    "* `size`\n",
    "* `stroke`\n",
    "\n",
    "`geom_smooth` has the following aesthetics:\n",
    "\n",
    "* `x` (required)\n",
    "* `y` (required)\n",
    "* `alpha`\n",
    "* `color`\n",
    "* `fill`\n",
    "* `group`\n",
    "* `linetype`\n",
    "* `size`\n",
    "* `weight`\n",
    "* `ymax`\n",
    "* `ymin`\n",
    "\n",
    "All these information can be found by tpying ```?geom_smooth``` or ```?geom_point``` in ```R```."
   ]
  },
  {
   "cell_type": "code",
   "execution_count": 7,
   "metadata": {},
   "outputs": [],
   "source": [
    "?geom_smooth"
   ]
  },
  {
   "cell_type": "markdown",
   "metadata": {},
   "source": [
    "What if we want both the smooth version of the plot as well as the data points in the same plot?  To do this, we could  use both ```geom_point``` and ```geom_smooth``` when we are using ```ggplot```.  Let's see what this does in our scatterplot.  "
   ]
  },
  {
   "cell_type": "code",
   "execution_count": null,
   "metadata": {},
   "outputs": [],
   "source": []
  },
  {
   "cell_type": "markdown",
   "metadata": {},
   "source": [
    "There's a bit of code duplication above. We are specifying the `x` and `y` mappings twice. This can lead to bugs. E.g., in the code below, I changed the **y** variable to map to **cty** in the point geom but forgot to make that change for the smooth geom."
   ]
  },
  {
   "cell_type": "code",
   "execution_count": null,
   "metadata": {},
   "outputs": [],
   "source": []
  },
  {
   "cell_type": "markdown",
   "metadata": {},
   "source": [
    "A good solution to this problem is to make the x, y mappings **global**."
   ]
  },
  {
   "cell_type": "code",
   "execution_count": null,
   "metadata": {},
   "outputs": [],
   "source": []
  },
  {
   "cell_type": "markdown",
   "metadata": {},
   "source": [
    "### More about  `geom_smooth`\n",
    "\n",
    "We can also apply what we have learnt for `geom_point()` to `geom_smooth`, but the arguments may be different.  Let us map the **linetype** aesthetic to the **drv** variable."
   ]
  },
  {
   "cell_type": "code",
   "execution_count": null,
   "metadata": {},
   "outputs": [],
   "source": []
  },
  {
   "cell_type": "markdown",
   "metadata": {},
   "source": [
    "Contrast the above plot with the plot we get when we map the **color** aesthetic to the **drv** variable."
   ]
  },
  {
   "cell_type": "code",
   "execution_count": null,
   "metadata": {},
   "outputs": [],
   "source": []
  },
  {
   "cell_type": "markdown",
   "metadata": {},
   "source": [
    "### Combining geom_point and geom_smooth with additional mappings\n",
    "We can provide additional mappings in the individual geoms."
   ]
  },
  {
   "cell_type": "code",
   "execution_count": null,
   "metadata": {},
   "outputs": [],
   "source": []
  },
  {
   "cell_type": "markdown",
   "metadata": {},
   "source": [
    "## Other geoms\n",
    "There are many other geoms in ``ggplot()`` (over 30).  While we will explore some of them in the next lecture, we will not have time to go over them all. If you want to learn about other types of plots and geoms, check out this [graphical glossary](https://www.r-graph-gallery.com/portfolio/ggplot2-package/). The nice thing about plotting using ``ggplot`` is that can completely alter the type and appearance of your plot by simply switching to another type of geom."
   ]
  },
  {
   "cell_type": "markdown",
   "metadata": {},
   "source": [
    "### Case Study on the Diamond Data Set\n",
    "\n",
    "We have now seen several ways to visualize two continuous and two categorical variables at the same time. Let us practice some of our skills by loading another data set in `tidyvserse`. This one is about diamonds!\n",
    "\n",
    "[Here's](https://ggplot2.tidyverse.org/reference/diamonds.html) more info about this data set"
   ]
  },
  {
   "cell_type": "code",
   "execution_count": 13,
   "metadata": {},
   "outputs": [
    {
     "name": "stdout",
     "output_type": "stream",
     "text": [
      "\u001b[38;5;246m# A tibble: 53,940 x 10\u001b[39m\n",
      "   carat cut       color clarity depth table price     x     y     z\n",
      "   \u001b[3m\u001b[38;5;246m<dbl>\u001b[39m\u001b[23m \u001b[3m\u001b[38;5;246m<ord>\u001b[39m\u001b[23m     \u001b[3m\u001b[38;5;246m<ord>\u001b[39m\u001b[23m \u001b[3m\u001b[38;5;246m<ord>\u001b[39m\u001b[23m   \u001b[3m\u001b[38;5;246m<dbl>\u001b[39m\u001b[23m \u001b[3m\u001b[38;5;246m<dbl>\u001b[39m\u001b[23m \u001b[3m\u001b[38;5;246m<int>\u001b[39m\u001b[23m \u001b[3m\u001b[38;5;246m<dbl>\u001b[39m\u001b[23m \u001b[3m\u001b[38;5;246m<dbl>\u001b[39m\u001b[23m \u001b[3m\u001b[38;5;246m<dbl>\u001b[39m\u001b[23m\n",
      "\u001b[38;5;250m 1\u001b[39m 0.23  Ideal     E     SI2      61.5    55   326  3.95  3.98  2.43\n",
      "\u001b[38;5;250m 2\u001b[39m 0.21  Premium   E     SI1      59.8    61   326  3.89  3.84  2.31\n",
      "\u001b[38;5;250m 3\u001b[39m 0.23  Good      E     VS1      56.9    65   327  4.05  4.07  2.31\n",
      "\u001b[38;5;250m 4\u001b[39m 0.290 Premium   I     VS2      62.4    58   334  4.2   4.23  2.63\n",
      "\u001b[38;5;250m 5\u001b[39m 0.31  Good      J     SI2      63.3    58   335  4.34  4.35  2.75\n",
      "\u001b[38;5;250m 6\u001b[39m 0.24  Very Good J     VVS2     62.8    57   336  3.94  3.96  2.48\n",
      "\u001b[38;5;250m 7\u001b[39m 0.24  Very Good I     VVS1     62.3    57   336  3.95  3.98  2.47\n",
      "\u001b[38;5;250m 8\u001b[39m 0.26  Very Good H     SI1      61.9    55   337  4.07  4.11  2.53\n",
      "\u001b[38;5;250m 9\u001b[39m 0.22  Fair      E     VS2      65.1    61   337  3.87  3.78  2.49\n",
      "\u001b[38;5;250m10\u001b[39m 0.23  Very Good H     VS1      59.4    61   338  4     4.05  2.39\n",
      "\u001b[38;5;246m# … with 53,930 more rows\u001b[39m\n"
     ]
    }
   ],
   "source": [
    "print(diamonds)"
   ]
  },
  {
   "cell_type": "markdown",
   "metadata": {},
   "source": [
    "When we think about diamonds, we tend to think about **carat** and **price**.   So let us try to make a scatterplot to understand the relationship between **carat** and **price**. "
   ]
  },
  {
   "cell_type": "code",
   "execution_count": null,
   "metadata": {},
   "outputs": [],
   "source": []
  },
  {
   "cell_type": "markdown",
   "metadata": {},
   "source": [
    "Does color of the diamond matters?   Let us try to incorporate color into our plots according to the color of the diamond.  "
   ]
  },
  {
   "cell_type": "code",
   "execution_count": null,
   "metadata": {},
   "outputs": [],
   "source": []
  },
  {
   "cell_type": "markdown",
   "metadata": {},
   "source": [
    "Next let us try to understand whether **cut** actually affects the price of a diamond.  "
   ]
  },
  {
   "cell_type": "code",
   "execution_count": null,
   "metadata": {},
   "outputs": [],
   "source": []
  },
  {
   "cell_type": "markdown",
   "metadata": {},
   "source": [
    "Let's try with `color` mapped to `color` along with `facet_wrap` on `cut`."
   ]
  },
  {
   "cell_type": "code",
   "execution_count": null,
   "metadata": {},
   "outputs": [],
   "source": []
  },
  {
   "cell_type": "markdown",
   "metadata": {},
   "source": [
    "Now the other way around, i.e., `color` mapped to `cut` along with `facet_wrap` on `cut`."
   ]
  },
  {
   "cell_type": "code",
   "execution_count": null,
   "metadata": {},
   "outputs": [],
   "source": []
  },
  {
   "cell_type": "markdown",
   "metadata": {},
   "source": [
    "Now let's use `facet_grid`."
   ]
  },
  {
   "cell_type": "code",
   "execution_count": null,
   "metadata": {},
   "outputs": [],
   "source": []
  }
 ],
 "metadata": {
  "kernelspec": {
   "display_name": "R",
   "language": "R",
   "name": "ir"
  },
  "language_info": {
   "codemirror_mode": "r",
   "file_extension": ".r",
   "mimetype": "text/x-r-source",
   "name": "R",
   "pygments_lexer": "r",
   "version": "3.6.2"
  }
 },
 "nbformat": 4,
 "nbformat_minor": 1
}
